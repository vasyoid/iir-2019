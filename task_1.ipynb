{
 "cells": [
  {
   "cell_type": "code",
   "execution_count": 1,
   "metadata": {},
   "outputs": [],
   "source": [
    "class Document:\n",
    "    def __init__(self, doc_url, doc_id, sz_bytes, sz_words):\n",
    "        self.url = doc_url       # document url\n",
    "        self.id = doc_id         # unique document id (int)\n",
    "        self.sz_bytes = sz_bytes # document size in bytes before deleting html markup\n",
    "        self.sz_words = sz_words # number of words in document before deleting html markup\n",
    "        self.words = []          # list of words in document after deleting html markup\n",
    "        self.links = []          # lisk of links in document"
   ]
  },
  {
   "cell_type": "code",
   "execution_count": 2,
   "metadata": {},
   "outputs": [],
   "source": [
    "import base64\n",
    "from bs4 import BeautifulSoup\n",
    "import pickle\n",
    "import os\n",
    "\n",
    "DOCUMENT_TAG = \"<document>\"\n",
    "DOC_URL_TAG = \"<docURL>\"\n",
    "DOC_ID_TAG = \"<docID>\"\n",
    "\n",
    "def preprocess_doc(doc, doc_url, doc_id):\n",
    "    document = Document(doc_url, doc_id, len(doc), len(doc.split()))\n",
    "    try:\n",
    "        soup = BeautifulSoup(doc, \"html.parser\")\n",
    "    except:\n",
    "        print(\"incorrect document:\", doc_url, doc_id)\n",
    "        return document\n",
    "    for script in soup([\"script\", \"style\"]):\n",
    "        script.extract()\n",
    "    for link in soup.find_all('a', href=True):\n",
    "        document.links.append(link[\"href\"])\n",
    "    document.words = soup.get_text(separator=\" \").split()\n",
    "    return document\n",
    "    \n",
    "def preprocess_file(d, f):\n",
    "    print(\"preprocessing\", os.path.join(d, f))\n",
    "    with open(os.path.join(d, f), \"rt\", encoding=\"cp1251\") as fin, open(os.path.join(d, f.replace(\".xml\", \".out\")), \"wb\") as fout:\n",
    "        for line in fin:\n",
    "            if line.startswith(DOCUMENT_TAG):\n",
    "                doc = line[37:-11]\n",
    "            elif line.startswith(DOC_URL_TAG):\n",
    "                doc_url = line[8:-10]\n",
    "            elif line.startswith(DOC_ID_TAG):\n",
    "                doc_id = line[7:-20]\n",
    "                document = preprocess_doc(base64.b64decode(doc), base64.b64decode(doc_url), doc_id)\n",
    "                pickle.dump(document, fout)\n",
    "\n",
    "def preprocess_collection(directory):\n",
    "    for file in os.listdir(directory):\n",
    "        if (file.endswith(\".xml\")):\n",
    "            preprocess_file(directory, file)"
   ]
  },
  {
   "cell_type": "code",
   "execution_count": 3,
   "metadata": {},
   "outputs": [
    {
     "name": "stderr",
     "output_type": "stream",
     "text": [
      "\r",
      "  0%|          | 0/600000 [00:00<?, ?it/s]"
     ]
    }
   ],
   "source": [
    "from tqdm import tqdm\n",
    "pbar = tqdm(total = 200000 * 3)\n",
    "\n",
    "class BaseDocumentProcessor:\n",
    "    def process(self, document):\n",
    "        pass\n",
    "    def result(self):\n",
    "        pass\n",
    "\n",
    "def process_file(d, f, processor):\n",
    "    print(\"processing\", os.path.join(d, f))\n",
    "    with open(os.path.join(d, f), \"rb\") as fin:\n",
    "        while True:\n",
    "            pbar.update(1)\n",
    "            try:\n",
    "                document = pickle.load(fin)\n",
    "            except:\n",
    "                break\n",
    "            processor.process(document)\n",
    "\n",
    "def process_collection(directory, processor):\n",
    "    for file in os.listdir(directory):\n",
    "        if (file.endswith(\".out\")):\n",
    "            process_file(directory, file, processor)"
   ]
  },
  {
   "cell_type": "code",
   "execution_count": 4,
   "metadata": {},
   "outputs": [],
   "source": [
    "import matplotlib.pyplot as plt\n",
    "from statistics import mean\n",
    "\n",
    "COLLECTION_DIRECTORY = \"byweb\" # directory with .out files to process\n",
    "\n",
    "class PrimaryStatsGetter(BaseDocumentProcessor):\n",
    "    def __init__(self):\n",
    "        \"\"\" do all initialization here \"\"\"\n",
    "        self._docs_count = 0\n",
    "        self._sz_bytes_html = []\n",
    "        self._sz_words_html = []\n",
    "        self._sz_bytes = []\n",
    "        self._sz_words = []\n",
    "    \n",
    "    def process(self, document):\n",
    "        \"\"\" document: Document (see first cell)\n",
    "            process each document here \"\"\"\n",
    "        self._docs_count += 1\n",
    "        self._sz_bytes_html.append(document.sz_bytes)\n",
    "        self._sz_words_html.append(document.sz_words)\n",
    "        self._sz_bytes.append(len(\"\".join(document.words)))\n",
    "        self._sz_words.append(len(document.words))\n",
    "    \n",
    "    def result(self):\n",
    "        \"\"\" summarize and output all data \"\"\"\n",
    "        size_ratio = [x / y for x, y in zip(self._sz_bytes, self._sz_bytes_html)]\n",
    "        print(\"total documents:\", self._docs_count)\n",
    "        print(\"average doc size in bytes:\", round(mean(self._sz_bytes_html), 0))\n",
    "        print(\"average text size in bytes:\", round(mean(self._sz_bytes), 0))\n",
    "        print(\"average word count including html:\", round(mean(self._sz_words_html), 0))\n",
    "        print(\"average word count:\", round(mean(self._sz_words), 0))\n",
    "        print(\"average size ration:\", mean(size_ratio))\n",
    "        \n",
    "        plt.figure(figsize=(14, 5))\n",
    "        plt.hist(self._sz_bytes_html, bins=100, range=(0, 200000))\n",
    "        plt.legend(labels=(\"total doc size\",), fontsize=\"x-large\")\n",
    "        \n",
    "        plt.figure(figsize=(14, 5))\n",
    "        plt.hist(self._sz_bytes, bins=100, range=(0, 20000))\n",
    "        plt.legend(labels=(\"total text size\",), fontsize=\"x-large\")\n",
    "        \n",
    "        plt.figure(figsize=(14, 5))\n",
    "        plt.hist(self._sz_words_html, bins=100, range=(0, 10000))\n",
    "        plt.legend(labels=(\"words including html\",), fontsize=\"x-large\")\n",
    "        \n",
    "        plt.figure(figsize=(14, 5))\n",
    "        plt.hist(self._sz_words, bins=100, range=(0, 4000))\n",
    "        plt.legend(labels=(\"words\",), fontsize=\"x-large\")\n",
    "        \n",
    "        plt.figure(figsize=(14, 5))\n",
    "        plt.hist(size_ratio, bins=100)\n",
    "        plt.legend(labels=(\"size ratio\",), fontsize=\"x-large\")\n",
    "        \n",
    "        plt.show()\n",
    "        \n",
    "#processor = PrimaryStatsGetter()        \n",
    "#process_collection(COLLECTION_DIRECTORY, processor)\n",
    "#processor.result()"
   ]
  },
  {
   "cell_type": "code",
   "execution_count": 5,
   "metadata": {},
   "outputs": [
    {
     "name": "stderr",
     "output_type": "stream",
     "text": [
      "  0%|          | 99/600000 [00:01<187:50:45,  1.13s/it]"
     ]
    },
    {
     "name": "stdout",
     "output_type": "stream",
     "text": [
      "processing byweb/byweb.5.out\n"
     ]
    },
    {
     "name": "stderr",
     "output_type": "stream",
     "text": [
      "  3%|▎         | 20127/600000 [00:22<11:07, 868.96it/s] "
     ]
    },
    {
     "name": "stdout",
     "output_type": "stream",
     "text": [
      "processing byweb/byweb.4.out\n"
     ]
    },
    {
     "name": "stderr",
     "output_type": "stream",
     "text": [
      "  7%|▋         | 40174/600000 [00:42<08:46, 1063.53it/s]"
     ]
    },
    {
     "name": "stdout",
     "output_type": "stream",
     "text": [
      "processing byweb/byweb.6.out\n"
     ]
    },
    {
     "name": "stderr",
     "output_type": "stream",
     "text": [
      " 10%|█         | 60005/600000 [00:59<07:47, 1154.32it/s]"
     ]
    },
    {
     "name": "stdout",
     "output_type": "stream",
     "text": [
      "processing byweb/byweb.7.out\n"
     ]
    },
    {
     "name": "stderr",
     "output_type": "stream",
     "text": [
      " 13%|█▎        | 80026/600000 [01:20<08:56, 969.24it/s] "
     ]
    },
    {
     "name": "stdout",
     "output_type": "stream",
     "text": [
      "processing byweb/byweb.3.out\n"
     ]
    },
    {
     "name": "stderr",
     "output_type": "stream",
     "text": [
      " 17%|█▋        | 100021/600000 [01:43<08:39, 961.96it/s]"
     ]
    },
    {
     "name": "stdout",
     "output_type": "stream",
     "text": [
      "processing byweb/byweb.2.out\n"
     ]
    },
    {
     "name": "stderr",
     "output_type": "stream",
     "text": [
      " 20%|██        | 120040/600000 [02:04<07:14, 1105.56it/s]"
     ]
    },
    {
     "name": "stdout",
     "output_type": "stream",
     "text": [
      "processing byweb/byweb.0.out\n"
     ]
    },
    {
     "name": "stderr",
     "output_type": "stream",
     "text": [
      " 23%|██▎       | 140156/600000 [02:26<07:51, 976.27it/s] "
     ]
    },
    {
     "name": "stdout",
     "output_type": "stream",
     "text": [
      "processing byweb/byweb.1.out\n"
     ]
    },
    {
     "name": "stderr",
     "output_type": "stream",
     "text": [
      " 27%|██▋       | 160132/600000 [02:46<07:36, 964.42it/s] "
     ]
    },
    {
     "name": "stdout",
     "output_type": "stream",
     "text": [
      "processing byweb/byweb.9.out\n"
     ]
    },
    {
     "name": "stderr",
     "output_type": "stream",
     "text": [
      " 30%|███       | 180027/600000 [03:06<06:35, 1063.07it/s]"
     ]
    },
    {
     "name": "stdout",
     "output_type": "stream",
     "text": [
      "processing byweb/byweb.8.out\n"
     ]
    },
    {
     "name": "stderr",
     "output_type": "stream",
     "text": [
      " 33%|███▎      | 199972/600000 [03:28<08:34, 777.63it/s] "
     ]
    }
   ],
   "source": [
    "from tqdm import tqdm_notebook\n",
    "import networkx as nx\n",
    "import operator\n",
    "\n",
    "COLLECTION_DIRECTORY = \"byweb\" # directory with .out files to process\n",
    "document_urls = {}\n",
    "\n",
    "class GetDocUrls(BaseDocumentProcessor):\n",
    "    def __init__(self):\n",
    "        \"\"\" do all initialization here \"\"\"\n",
    "    \n",
    "    def process(self, document):\n",
    "        \"\"\" document: Document (see first cell)\n",
    "            process each document here \"\"\"\n",
    "        document_url = str(document.url)[2:-1].split(\"?\")[0].split(\"#\")[0]\n",
    "        if document_url[-1] == '/':\n",
    "            document_url = document_url[:-1]\n",
    "        document_urls[document_url] = True\n",
    "        \n",
    "    def result(self):\n",
    "        pass\n",
    "        \n",
    "processor = GetDocUrls()        \n",
    "process_collection(COLLECTION_DIRECTORY, processor)\n",
    "processor.result()"
   ]
  },
  {
   "cell_type": "code",
   "execution_count": 6,
   "metadata": {},
   "outputs": [],
   "source": [
    "#document_urls"
   ]
  },
  {
   "cell_type": "code",
   "execution_count": 8,
   "metadata": {},
   "outputs": [
    {
     "name": "stderr",
     "output_type": "stream",
     "text": [
      " 67%|██████▋   | 400044/600000 [10:28<22:06:31,  2.51it/s]"
     ]
    },
    {
     "name": "stdout",
     "output_type": "stream",
     "text": [
      "processing byweb/byweb.5.out\n"
     ]
    },
    {
     "name": "stderr",
     "output_type": "stream",
     "text": [
      " 70%|███████   | 420031/600000 [11:03<04:45, 629.63it/s]  "
     ]
    },
    {
     "name": "stdout",
     "output_type": "stream",
     "text": [
      "processing byweb/byweb.4.out\n"
     ]
    },
    {
     "name": "stderr",
     "output_type": "stream",
     "text": [
      " 73%|███████▎  | 440047/600000 [11:39<04:23, 606.58it/s]"
     ]
    },
    {
     "name": "stdout",
     "output_type": "stream",
     "text": [
      "processing byweb/byweb.6.out\n"
     ]
    },
    {
     "name": "stderr",
     "output_type": "stream",
     "text": [
      " 77%|███████▋  | 460038/600000 [12:15<03:42, 629.89it/s]"
     ]
    },
    {
     "name": "stdout",
     "output_type": "stream",
     "text": [
      "processing byweb/byweb.7.out\n"
     ]
    },
    {
     "name": "stderr",
     "output_type": "stream",
     "text": [
      " 80%|████████  | 480098/600000 [12:50<03:48, 524.94it/s]"
     ]
    },
    {
     "name": "stdout",
     "output_type": "stream",
     "text": [
      "processing byweb/byweb.3.out\n"
     ]
    },
    {
     "name": "stderr",
     "output_type": "stream",
     "text": [
      " 83%|████████▎ | 500102/600000 [13:25<02:40, 622.15it/s]"
     ]
    },
    {
     "name": "stdout",
     "output_type": "stream",
     "text": [
      "processing byweb/byweb.2.out\n"
     ]
    },
    {
     "name": "stderr",
     "output_type": "stream",
     "text": [
      " 87%|████████▋ | 520127/600000 [13:55<01:54, 698.98it/s]"
     ]
    },
    {
     "name": "stdout",
     "output_type": "stream",
     "text": [
      "processing byweb/byweb.0.out\n"
     ]
    },
    {
     "name": "stderr",
     "output_type": "stream",
     "text": [
      " 90%|█████████ | 540114/600000 [14:27<01:19, 755.70it/s]"
     ]
    },
    {
     "name": "stdout",
     "output_type": "stream",
     "text": [
      "processing byweb/byweb.1.out\n"
     ]
    },
    {
     "name": "stderr",
     "output_type": "stream",
     "text": [
      " 93%|█████████▎| 560048/600000 [14:58<00:58, 687.40it/s]"
     ]
    },
    {
     "name": "stdout",
     "output_type": "stream",
     "text": [
      "processing byweb/byweb.9.out\n"
     ]
    },
    {
     "name": "stderr",
     "output_type": "stream",
     "text": [
      " 97%|█████████▋| 580075/600000 [15:27<00:31, 639.93it/s] "
     ]
    },
    {
     "name": "stdout",
     "output_type": "stream",
     "text": [
      "processing byweb/byweb.8.out\n"
     ]
    },
    {
     "name": "stderr",
     "output_type": "stream",
     "text": [
      "600009it [16:00, 677.90it/s]                            "
     ]
    },
    {
     "name": "stdout",
     "output_type": "stream",
     "text": [
      "!!\n"
     ]
    },
    {
     "name": "stderr",
     "output_type": "stream",
     "text": [
      "\r",
      "600030it [16:10, 677.90it/s]"
     ]
    },
    {
     "name": "stdout",
     "output_type": "stream",
     "text": [
      "['http://profile.tut.by', 'http://www.tut.by', 'http://catalog.tut.by', 'http://mail.tut.by/faq.html', 'http://np.by', 'http://www.rodina.by/info/prize/index/index.phtml', 'http://list.np.by', 'http://avto.np.by', 'http://news.np.by', 'http://chat.np.by', 'http://media.telecom.by/forum/index.php', 'http://pritchi.castle.by', 'http://news.br.by', 'http://cards.br.by', 'http://media.telecom.by/forum/search.php', 'http://media.telecom.by/forum/viewforum.php', 'http://oz.by/piter', 'http://profile.tut.by/newtut.html', 'http://bs.by', 'http://oz.by/auctions/topic.phtml', 'http://profile.tut.by/deluser.html', 'http://forum.everyday.by/index.php', 'http://kino.br.by/tv', 'http://www.au78.by', 'http://shop.n1.by', 'http://www2.kopeyka.by', 'http://www2.kopeyka.by/prodavzam.html', 'http://www2.kopeyka.by/bug-report.html', 'http://mail.tut.by', 'http://www.velcom.by/ru/services/gprs', 'http://content.tut.by', 'http://news.sportpanorama.by', 'http://www.newsite.by', 'http://www.my.mts.by/forum.html', 'http://www.mts.by/legal', 'http://rebenok.by', 'http://realty.tut.by', 'http://catalog.onliner.by', 'http://catalog.onliner.by/mobile', 'http://catalog.onliner.by/player', 'http://catalog.onliner.by/gps', 'http://cat.extreme.by', 'http://hotels.vp.by', 'http://news.tut.by', 'http://catalog.onliner.by/sound', 'http://house.gov.by/index.php/,992,,,,0,0,0.html', 'http://realty.tut.by/search_offices.php', 'http://realty.tut.by/search_cottages.php', 'http://realty.tut.by/search.php', 'http://shop.tut.by/category_381.html', 'http://shop.bs.by', 'http://press.tut.by/2692.html', 'http://press.tut.by/2685.html', 'http://torg.tut.by/topic.phtml', 'http://press.tut.by/2702.html', 'http://www.kv.by', 'http://ads.bs.by', 'http://list.np.by/sites/19-10', 'http://news.np.by/topic51', 'http://www.priorbank.by', 'http://press.tut.by', 'http://forum.lifestyle.by/ipb.html', 'http://house.gov.by/index.php/,1036,,,,0,0,0.html', 'http://www.bnb.by/services_new.php', 'http://www.tiga.by', 'http://www.mts.by', 'http://www.my.mts.by', 'http://na.by', 'http://www.trud.by', 'http://www.bnb.by', 'http://kino.br.by/search.cgi', 'http://profile.tut.by/newpass.html', 'http://news.akavita.by/ru', 'http://www.sovrep.gov.by/index.php/arhiv_novostej.html', 'http://www.b2g.by/index/info', 'http://www.pogoda.by', 'http://www.konkurs.by/archive/fido7.pvt.girls/2006I0000.html', 'http://forum.vp.by', 'http://news.vp.by', 'http://dead-sea.bs.by/info/1482.html', 'http://forum.onliner.by/viewtopic.php', 'http://avto.tdj.by/news.php', 'http://avto.tdj.by/catalog', 'http://www2.kopeyka.by/products-22112.html', 'http://www2.kopeyka.by/products-24148.html', 'http://www2.kopeyka.by/products-24102.html', 'http://www2.kopeyka.by/products-26818.html', 'http://www2.kopeyka.by/products-20621.html', 'http://www2.kopeyka.by/products-12235.html', 'http://www2.kopeyka.by/products-13340.html', 'http://www2.kopeyka.by/products-14220.html', 'http://www2.kopeyka.by/products-29196.html', 'http://cards.br.by/cardscat.t3.html', 'http://cards.br.by/cardscat.t2.html', 'http://cards.br.by/tg', 'http://realt.by', 'http://live.date.by/index.php', 'http://forum.mama.by/index.php', 'http://www.my.mts.by/information/sms-info/magic', 'http://www.ultraprice.by', 'http://www.prazdnik.by', 'http://www.forum.999.by/index.php', 'http://top.exe.by', 'http://www.aplus.by', 'http://www.prazdnik.by/sitemap', 'http://www.prazdnik.by/holidays/allloved/lastcall', 'http://ncpi.gov.by/ncpi.asp', 'http://www.anti-virus.by/press/viruses/3_2004.html', 'http://www.anti-virus.by/press/viruses/8_2003.html', 'http://www.anti-virus.by/press/viruses/4_2006.html', 'http://house.gov.by/index.php/,992,,,0412,0,0,0.html', 'http://forum.extra.by/index.php', 'http://www.ultraprice.by/category12.html', 'http://www.ultraprice.by/category9.html', 'http://www.ultraprice.by/category7.html', 'http://cards.br.by/nameday', 'http://www.prazdnik.by/holidays/corporate', 'http://www.prazdnik.by/holidays/allloved', 'http://www.prazdnik.by/holidays', 'http://www.prazdnik.by/holidays/birth', 'http://www.prazdnik.by/holidays/inter', 'http://www.prazdnik.by/holidays/religion', 'http://www.prazdnik.by/holidays/other', 'http://www.prazdnik.by/essential/greeting', 'http://www.prazdnik.by/essential/songs', 'http://avto.tdj.by/links.html', 'http://www.vashdom.by/component/option,com_contact/Itemid,3', 'http://www.trio.by/user.php', 'http://www.avto.tdj.by/catalog', 'http://www.activemedia.by', 'http://www.avto.tdj.by/news.php', 'http://www.mirdvd.by', 'http://nsys.by', 'http://www.prazdnik.by/service/meals', 'http://www.prazdnik.by/service/decor', 'http://econom.tut.by/index.php', 'http://www.prazdnik.by/service/exclusive', 'http://www.prazdnik.by/service/wear', 'http://pogoda.open.by', 'http://photoclub.by/top100.php', 'http://photoclub.by/authors.php', 'http://photoclub.by/articles.php', 'http://photoclub.by/contact.php', 'http://www.webcom.by', 'http://media.aplus.by/index.php', 'http://media.aplus.by/2007/02', 'http://media.aplus.by/2007/01', 'http://media.aplus.by/2006/12', 'http://media.aplus.by/2006/11', 'http://develop.belta.by', 'http://www.fashionzone.by/brands/11.htm', 'http://www.belta.by', 'http://www.ofiston.by/search', 'http://ads.tut.by/items', 'http://www.ctv.by/sitemap', 'http://ncpi.gov.by', 'http://photoclub.by/author.php', 'http://mediaforum.aplus.by/index.php', 'http://media.aplus.by/2007/04/03/pisma_devochekpodrostkov_v_yes.html', 'http://photoclub.by/work.php', 'http://sportpanorama.by', 'http://realty.tut.by/agencies.php', 'http://realty.tut.by/cottages.php', 'http://realty.tut.by/offices.php', 'http://econom.tut.by', 'http://sportpanorama.by/content/football', 'http://sportpanorama.by/content/wrestling', 'http://sportpanorama.by/content/water', 'http://sportpanorama.by/info/subscribe', 'http://www.ais.by/index.php', 'http://www.ais.by/component/option,com_classifieds/Itemid,205', 'http://www.forum.pickup.by/index.php', 'http://www.avto.tdj.by/links.html', 'http://www.mts.by/phones', 'http://www.db.by', 'http://www.my.mts.by/information/sms-info/horoscopes', 'http://forum.nightlab.by/index.php', 'http://www.library.bsu.by', 'http://www.likbez.by/page_1.html', 'http://www.likbez.by/category_172.html', 'http://www.likbez.by/category_292.html', 'http://www.likbez.by/category_221.html', 'http://www.likbez.by/category_241.html', 'http://www.likbez.by/category_244.html', 'http://www.likbez.by/category_262.html', 'http://www.likbez.by/category_263.html', 'http://news.tut.by/export', 'http://lge.shop.by/credit1.html', 'http://media.aplus.by/2007/04/07/tancujushhie_koty_.html', 'http://www.konkurs.by/archive/fido7.ru.teenagers/index.html', 'http://www.konkurs.by/archive/fido7.ru.teenagers/2006F0000.html', 'http://www.konkurs.by/archive/fido7.ru.teenagers/2007D0000.html', 'http://www.activemedia.by/tech/activeshop', 'http://news.extra.by/news/ads', 'http://news.extra.by/news/showbiz', 'http://news.extra.by/news/comm', 'http://news.extra.by/news/auto', 'http://news.extra.by/news/world', 'http://news.extra.by/news/russia', 'http://news.extra.by/news/ukraine', 'http://news.extra.by/news/music', 'http://news.extra.by/news/science', 'http://news.extra.by/news/realty', 'http://kino.br.by/film2072.html', 'http://www.government.by/ru/rus_contacts.html', 'http://photoclub.by/forum/showthread.php', 'http://news.akavita.by/ru/all', 'http://naviny.by/other/privacypolice', 'http://www.shop.fotomax.by/basket/~mode=reg', 'http://naviny.by/popular/ic_popular_240_46', 'http://www.kiranna.by/information/publications/2_2007.html', 'http://www.kiranna.by/information/publications/all.html', 'http://forum.wce.by/search.php', 'http://forum.wce.by/profile.php', 'http://mf.grsu.by/Fakultet', 'http://mf.grsu.by/other', 'http://mf.grsu.by/timetable', 'http://www.belapb.by/rus', 'http://www.belapb.by/rus/sm', 'http://kino.br.by/film7837.html', 'http://www.volkswagen.by', 'http://chat.mogilev.by', 'http://www.mts.by/news', 'http://www.mirdvd.by/catalog/dvd/3622.html', 'http://www.mirdvd.by/catalog/dvd/3194.html', 'http://www.mirdvd.by/catalog/dvd/607.html', 'http://www.mts.by/where2buy', 'http://kino.br.by/film5643.html', 'http://kino.br.by/film6219.html', 'http://www.prazdnik.by/holidays/wedding/action/antanenko-jurlicki', 'http://media.aplus.by/2007/04/16/anekd0t.html', 'http://www.69.by/index.php', 'http://www.vashdom.by/content/category/1/3/46', 'http://www.vashdom.by/content/view/75/38', 'http://www.mirdvd.by/catalog/dvd/3125.html', 'http://www.webcom.by/content_63.html', 'http://chat.mogilev.by/content/blogcategory/0/78', 'http://chat.mogilev.by/component/option,com_vfm/Itemid,88', 'http://fishki.tut.by/rss.html', 'http://www.salon.by', 'http://www.date.by/job', 'http://media.aplus.by', 'http://www.bnb.by/news.php', 'http://live.date.by', 'http://www.absolutbank.by/index.php', 'http://www.date.by/weather.html', 'http://www.date.by/mail.html', 'http://chat.mogilev.by/component/option,com_joomap/Itemid,105', 'http://www.automoto.by', 'http://2007.ultra.by/index.php', 'http://2007.ultra.by/horoscope', 'http://card.exe.by', 'http://www.camera.by', 'http://rebenok.by/aboutus', 'http://www.ig.by/Komputery-i--td/search-14220.html', 'http://www.ig.by/Avto/search-29029.html', 'http://www.ig.by/Dobavit.html', 'http://www.ig.by/SportTovary/search-27323.html', 'http://games.aplus.by', 'http://mf.grsu.by/Kafedry/kaf001', 'http://avto.tdj.by/data/print.php', 'http://www.salon.by/cgi-bin/searchgo.cgi', 'http://www.salon.by/cgi-bin/sellerinfo.cgi', 'http://www.salon.by/cgi-bin/modellist.cgi', 'http://dvddom.by/military.html', 'http://dvddom.by/fantasy.html', 'http://www.belkanton.by/news/cal/07-02-2007.html', 'http://rebenok.by/community/profiler/task,registers', 'http://torg.tut.by/whoiswho.phtml', 'http://realt.by/agencies', 'http://www.salon.by/sitemap.shtml', 'http://www.ultraprice.by/view', 'http://www.ultraprice.by/pconline', 'http://www.ultraprice.by/eshop.php', 'http://www.ultraprice.by/service', 'http://www.avtomir.by', 'http://chat.mogilev.by/content/view/90/64', 'http://www.dvddom.by/comix.html', 'http://www.dvddom.by/military.html', 'http://www.dvddom.by/documentals.html', 'http://www.ig.by/Sell.html', 'http://foto.tut.by/album/5492.html', 'http://naviny.by/rubrics/auto/2007/04', 'http://naviny.by/rubrics/style/2007/04', 'http://naviny.by/rubrics/criminal/2007/04', 'http://naviny.by/rubrics/politic/2007/04', 'http://naviny.by/rubrics/zdorovie/2007/04', 'http://www.rusradio.by', 'http://mf.grsu.by/other/001', 'http://www.worldwater.by', 'http://www.belinvestbank.by/bank/contacts.phtml', 'http://www.infobaza.by/transport', 'http://issa.telecom.by', 'http://www.ofiston.by/cat/tcats/78.html', 'http://mf.grsu.by/other/dict/002', 'http://sportpanorama.by/content/gymnastics/1712', 'http://press.tut.by/2642.html', 'http://inf.by/library', 'http://games.open.by/connect-2-p-677.html', 'http://games.open.by/bubble-elements-p-718.html']\n"
     ]
    },
    {
     "data": {
      "application/vnd.jupyter.widget-view+json": {
       "model_id": "c12ef0049d2e4824a408ff97dfb59a8a",
       "version_major": 2,
       "version_minor": 0
      },
      "text/plain": [
       "HBox(children=(IntProgress(value=0, max=364160), HTML(value='')))"
      ]
     },
     "metadata": {},
     "output_type": "display_data"
    },
    {
     "name": "stdout",
     "output_type": "stream",
     "text": [
      "\n"
     ]
    }
   ],
   "source": [
    "from tqdm import tqdm_notebook\n",
    "import networkx as nx\n",
    "import operator\n",
    "\n",
    "COLLECTION_DIRECTORY = \"byweb\" # directory with .out files to process\n",
    "\n",
    "class GraphBuider(BaseDocumentProcessor):\n",
    "    def __init__(self):\n",
    "        \"\"\" do all initialization here \"\"\"\n",
    "        self.edge_list = []\n",
    "    \n",
    "    def process(self, document):\n",
    "        \"\"\" document: Document (see first cell)\n",
    "            process each document here \"\"\"\n",
    "        links_long = document.links\n",
    "        document_url = str(document.url)[2:-1].split(\"?\")[0].split(\"#\")[0]\n",
    "        if document_url[-1] == '/':\n",
    "            document_url = document_url[:-1]\n",
    "        links_short = []\n",
    "        for link in links_long:\n",
    "            if not link:\n",
    "                continue\n",
    "            short_link = link\n",
    "            if not (short_link.startswith(\"http://\") or short_link.startswith(\"https://\")):\n",
    "                if short_link[0] == '.':\n",
    "                    short_link = short_link[2:]\n",
    "                short_link = document_url.rsplit(\"/\", 1)[0] + \"/\" + short_link\n",
    "            short_link = short_link.split(\"?\")[0].split(\"#\")[0]\n",
    "            if short_link[-1] == '/':\n",
    "                    short_link = short_link[:-1]\n",
    "            if not (short_link in links_short):\n",
    "                links_short.append(short_link)\n",
    "        for link in links_short:\n",
    "            if link in document_urls:\n",
    "                self.edge_list.append((document_url, link))\n",
    "        \n",
    "    def result(self):\n",
    "        print(\"!!\")\n",
    "        graph = nx.DiGraph(self.edge_list)\n",
    "        top_300_page_rank = sorted(nx.pagerank(graph).items(), key=operator.itemgetter(1), reverse=True)[:300]\n",
    "        top_300_page_rank = [x[0] for x in top_300_page_rank]\n",
    "        print(top_300_page_rank)\n",
    "        with open(\"graph4.csv\", \"wt\") as fout:\n",
    "            for inp, outp in tqdm_notebook(graph.edges()):\n",
    "                if inp in top_300_page_rank and outp in top_300_page_rank:\n",
    "                    fout.write(inp)\n",
    "                    fout.write(\";\")\n",
    "                    fout.write(outp)\n",
    "                    fout.write('\\n')    \n",
    "        \n",
    "processor = GraphBuider()        \n",
    "process_collection(COLLECTION_DIRECTORY, processor)\n",
    "processor.result()"
   ]
  },
  {
   "cell_type": "code",
   "execution_count": null,
   "metadata": {},
   "outputs": [],
   "source": []
  },
  {
   "cell_type": "code",
   "execution_count": null,
   "metadata": {},
   "outputs": [],
   "source": []
  }
 ],
 "metadata": {
  "kernelspec": {
   "display_name": "Python 3",
   "language": "python",
   "name": "python3"
  },
  "language_info": {
   "codemirror_mode": {
    "name": "ipython",
    "version": 3
   },
   "file_extension": ".py",
   "mimetype": "text/x-python",
   "name": "python",
   "nbconvert_exporter": "python",
   "pygments_lexer": "ipython3",
   "version": "3.7.3"
  }
 },
 "nbformat": 4,
 "nbformat_minor": 2
}
