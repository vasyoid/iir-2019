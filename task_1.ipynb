{
 "cells": [
  {
   "cell_type": "code",
   "execution_count": 1,
   "metadata": {},
   "outputs": [],
   "source": [
    "class Document:\n",
    "    def __init__(self, doc_url, doc_id, sz_bytes, sz_words):\n",
    "        self.url = doc_url       # document url\n",
    "        self.id = doc_id         # unique document id (int)\n",
    "        self.sz_bytes = sz_bytes # document size in bytes before deleting html markup\n",
    "        self.sz_words = sz_words # number of words in document before deleting html markup\n",
    "        self.words = []          # list of words in document after deleting html markup\n",
    "        self.links = []          # lisk of links in document"
   ]
  },
  {
   "cell_type": "code",
   "execution_count": 2,
   "metadata": {},
   "outputs": [],
   "source": [
    "import base64\n",
    "from bs4 import BeautifulSoup\n",
    "import pickle\n",
    "import os\n",
    "\n",
    "DOCUMENT_TAG = \"<document>\"\n",
    "DOC_URL_TAG = \"<docURL>\"\n",
    "DOC_ID_TAG = \"<docID>\"\n",
    "\n",
    "def preprocess_doc(doc, doc_url, doc_id):\n",
    "    document = Document(doc_url, doc_id, len(doc), len(doc.split()))\n",
    "    try:\n",
    "        soup = BeautifulSoup(doc, \"html.parser\")\n",
    "    except:\n",
    "        print(\"incorrect document:\", doc_url, doc_id)\n",
    "        return document\n",
    "    for script in soup([\"script\", \"style\"]):\n",
    "        script.extract()\n",
    "    for link in soup.find_all('a', href=True):\n",
    "        document.links.append(link[\"href\"])\n",
    "    document.words = soup.get_text(separator=\" \").split()\n",
    "    return document\n",
    "    \n",
    "def preprocess_file(d, f):\n",
    "    print(\"preprocessing\", os.path.join(d, f))\n",
    "    with open(os.path.join(d, f), \"rt\", encoding=\"cp1251\") as fin, open(os.path.join(d, f.replace(\".xml\", \".out\")), \"wb\") as fout:\n",
    "        for line in fin:\n",
    "            if line.startswith(DOCUMENT_TAG):\n",
    "                doc = line[37:-11]\n",
    "            elif line.startswith(DOC_URL_TAG):\n",
    "                doc_url = line[8:-10]\n",
    "            elif line.startswith(DOC_ID_TAG):\n",
    "                doc_id = line[7:-20]\n",
    "                document = preprocess_doc(base64.b64decode(doc), base64.b64decode(doc_url), doc_id)\n",
    "                pickle.dump(document, fout)\n",
    "\n",
    "def preprocess_collection(directory):\n",
    "    for file in os.listdir(directory):\n",
    "        if (file.endswith(\".xml\")):\n",
    "            preprocess_file(directory, file)"
   ]
  },
  {
   "cell_type": "code",
   "execution_count": 3,
   "metadata": {},
   "outputs": [],
   "source": [
    "class BaseDocumentProcessor:\n",
    "    def process(self, document):\n",
    "        pass\n",
    "    def result(self):\n",
    "        pass\n",
    "\n",
    "def process_file(d, f, processor):\n",
    "    print(\"processing\", os.path.join(d, f))\n",
    "    with open(os.path.join(d, f), \"rb\") as fin:\n",
    "        while True:\n",
    "            try:\n",
    "                document = pickle.load(fin)\n",
    "                processor.process(document)\n",
    "            except:\n",
    "                break\n",
    "\n",
    "def process_collection(directory, processor):\n",
    "    for file in os.listdir(directory):\n",
    "        if (file.endswith(\".out\")):\n",
    "            process_file(directory, file, processor)"
   ]
  },
  {
   "cell_type": "code",
   "execution_count": 182,
   "metadata": {},
   "outputs": [
    {
     "name": "stdout",
     "output_type": "stream",
     "text": [
      "processing byweb\\byweb.0.out\n",
      "processing byweb\\byweb.1.out\n",
      "processing byweb\\byweb.2.out\n",
      "processing byweb\\byweb.3.out\n",
      "processing byweb\\byweb.4.out\n",
      "processing byweb\\byweb.5.out\n",
      "processing byweb\\byweb.6.out\n",
      "processing byweb\\byweb.7.out\n",
      "processing byweb\\byweb.8.out\n",
      "processing byweb\\byweb.9.out\n",
      "total documents: 200000\n"
     ]
    }
   ],
   "source": [
    "COLLECTION_DIRECTORY = \"byweb\" # directory with .out files to process\n",
    "\n",
    "class PrimaryStatsGetter(BaseDocumentProcessor):\n",
    "    def __init__(self):\n",
    "        \"\"\" do all initialization here \"\"\"\n",
    "        self._docs_count = 0\n",
    "    \n",
    "    def process(self, document):\n",
    "        \"\"\" document: Document (see first cell)\n",
    "            process each document here \"\"\"\n",
    "        self._docs_count += 1\n",
    "    \n",
    "    def result(self):\n",
    "        \"\"\" summarize and output all data \"\"\"\n",
    "        print(\"total documents:\", self._docs_count)\n",
    "\n",
    "processor = PrimaryStatsGetter()        \n",
    "process_collection(COLLECTION_DIRECTORY, processor)\n",
    "processor.result()"
   ]
  }
 ],
 "metadata": {
  "kernelspec": {
   "display_name": "Python 3",
   "language": "python",
   "name": "python3"
  },
  "language_info": {
   "codemirror_mode": {
    "name": "ipython",
    "version": 3
   },
   "file_extension": ".py",
   "mimetype": "text/x-python",
   "name": "python",
   "nbconvert_exporter": "python",
   "pygments_lexer": "ipython3",
   "version": "3.6.8"
  }
 },
 "nbformat": 4,
 "nbformat_minor": 2
}
