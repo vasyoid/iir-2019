{
 "cells": [
  {
   "cell_type": "code",
   "execution_count": 1,
   "metadata": {},
   "outputs": [],
   "source": [
    "class Document:\n",
    "    def __init__(self, doc_url, doc_id, sz_bytes, sz_words):\n",
    "        self.url = doc_url       # document url\n",
    "        self.id = doc_id         # unique document id (int)\n",
    "        self.sz_bytes = sz_bytes # document size in bytes before deleting html markup\n",
    "        self.sz_words = sz_words # number of words in document before deleting html markup\n",
    "        self.words = []          # list of words in document after deleting html markup\n",
    "        self.links = []          # lisk of links in document"
   ]
  },
  {
   "cell_type": "code",
   "execution_count": 2,
   "metadata": {},
   "outputs": [],
   "source": [
    "import base64\n",
    "from bs4 import BeautifulSoup\n",
    "import pickle\n",
    "import os\n",
    "\n",
    "DOCUMENT_TAG = \"<document>\"\n",
    "DOC_URL_TAG = \"<docURL>\"\n",
    "DOC_ID_TAG = \"<docID>\"\n",
    "\n",
    "def preprocess_doc(doc, doc_url, doc_id):\n",
    "    document = Document(doc_url, doc_id, len(doc), len(doc.split()))\n",
    "    try:\n",
    "        soup = BeautifulSoup(doc, \"html.parser\")\n",
    "    except:\n",
    "        print(\"incorrect document:\", doc_url, doc_id)\n",
    "        return document\n",
    "    for script in soup([\"script\", \"style\"]):\n",
    "        script.extract()\n",
    "    for link in soup.find_all('a', href=True):\n",
    "        document.links.append(link[\"href\"])\n",
    "    document.words = soup.get_text(separator=\" \").split()\n",
    "    return document\n",
    "    \n",
    "def preprocess_file(d, f):\n",
    "    print(\"preprocessing\", os.path.join(d, f))\n",
    "    with open(os.path.join(d, f), \"rt\", encoding=\"cp1251\") as fin, open(os.path.join(d, f.replace(\".xml\", \".out\")), \"wb\") as fout:\n",
    "        for line in fin:\n",
    "            if line.startswith(DOCUMENT_TAG):\n",
    "                doc = line[37:-11]\n",
    "            elif line.startswith(DOC_URL_TAG):\n",
    "                doc_url = line[8:-10]\n",
    "            elif line.startswith(DOC_ID_TAG):\n",
    "                doc_id = line[7:-20]\n",
    "                document = preprocess_doc(base64.b64decode(doc), base64.b64decode(doc_url), doc_id)\n",
    "                pickle.dump(document, fout)\n",
    "\n",
    "def preprocess_collection(directory):\n",
    "    for file in os.listdir(directory):\n",
    "        if (file.endswith(\".xml\")):\n",
    "            preprocess_file(directory, file)"
   ]
  },
  {
   "cell_type": "code",
   "execution_count": 3,
   "metadata": {},
   "outputs": [
    {
     "name": "stderr",
     "output_type": "stream",
     "text": [
      "\r",
      "  0%|          | 0/600000 [00:00<?, ?it/s]"
     ]
    }
   ],
   "source": [
    "from tqdm import tqdm\n",
    "pbar = tqdm(total = 200000 * 3)"
   ]
  },
  {
   "cell_type": "code",
   "execution_count": 4,
   "metadata": {},
   "outputs": [],
   "source": [
    "\n",
    "class BaseDocumentProcessor:\n",
    "    def process(self, document):\n",
    "        pass\n",
    "    def result(self):\n",
    "        pass\n",
    "\n",
    "def process_file(d, f, processor):\n",
    "    print(\"processing\", os.path.join(d, f))\n",
    "    with open(os.path.join(d, f), \"rb\") as fin:\n",
    "        while True:\n",
    "            pbar.update(1)\n",
    "            try:\n",
    "                document = pickle.load(fin)\n",
    "            except:\n",
    "                break\n",
    "            processor.process(document)\n",
    "\n",
    "def process_collection(directory, processor):\n",
    "    for file in os.listdir(directory):\n",
    "        if (file.endswith(\".out\")):\n",
    "            process_file(directory, file, processor)"
   ]
  },
  {
   "cell_type": "code",
   "execution_count": 5,
   "metadata": {},
   "outputs": [
    {
     "name": "stderr",
     "output_type": "stream",
     "text": [
      "  0%|          | 209/600000 [00:03<281:46:02,  1.69s/it]"
     ]
    },
    {
     "name": "stdout",
     "output_type": "stream",
     "text": [
      "processing byweb/byweb.5.out\n"
     ]
    },
    {
     "name": "stderr",
     "output_type": "stream",
     "text": [
      "  3%|▎         | 20044/600000 [00:33<13:11, 732.92it/s] "
     ]
    },
    {
     "name": "stdout",
     "output_type": "stream",
     "text": [
      "processing byweb/byweb.4.out\n"
     ]
    },
    {
     "name": "stderr",
     "output_type": "stream",
     "text": [
      "  7%|▋         | 40018/600000 [00:59<11:07, 838.68it/s] "
     ]
    },
    {
     "name": "stdout",
     "output_type": "stream",
     "text": [
      "processing byweb/byweb.6.out\n"
     ]
    },
    {
     "name": "stderr",
     "output_type": "stream",
     "text": [
      " 10%|█         | 60138/600000 [01:21<08:42, 1032.90it/s]"
     ]
    },
    {
     "name": "stdout",
     "output_type": "stream",
     "text": [
      "processing byweb/byweb.7.out\n"
     ]
    },
    {
     "name": "stderr",
     "output_type": "stream",
     "text": [
      " 13%|█▎        | 80015/600000 [01:40<09:01, 960.62it/s] "
     ]
    },
    {
     "name": "stdout",
     "output_type": "stream",
     "text": [
      "processing byweb/byweb.3.out\n"
     ]
    },
    {
     "name": "stderr",
     "output_type": "stream",
     "text": [
      " 17%|█▋        | 100041/600000 [02:01<07:57, 1047.77it/s]"
     ]
    },
    {
     "name": "stdout",
     "output_type": "stream",
     "text": [
      "processing byweb/byweb.2.out\n"
     ]
    },
    {
     "name": "stderr",
     "output_type": "stream",
     "text": [
      " 20%|██        | 120156/600000 [02:19<07:55, 1008.56it/s]"
     ]
    },
    {
     "name": "stdout",
     "output_type": "stream",
     "text": [
      "processing byweb/byweb.0.out\n"
     ]
    },
    {
     "name": "stderr",
     "output_type": "stream",
     "text": [
      " 23%|██▎       | 140213/600000 [02:37<06:28, 1184.77it/s]"
     ]
    },
    {
     "name": "stdout",
     "output_type": "stream",
     "text": [
      "processing byweb/byweb.1.out\n"
     ]
    },
    {
     "name": "stderr",
     "output_type": "stream",
     "text": [
      " 27%|██▋       | 160144/600000 [02:53<07:06, 1030.11it/s]"
     ]
    },
    {
     "name": "stdout",
     "output_type": "stream",
     "text": [
      "processing byweb/byweb.9.out\n"
     ]
    },
    {
     "name": "stderr",
     "output_type": "stream",
     "text": [
      " 30%|███       | 180126/600000 [03:09<07:34, 923.63it/s] "
     ]
    },
    {
     "name": "stdout",
     "output_type": "stream",
     "text": [
      "processing byweb/byweb.8.out\n"
     ]
    },
    {
     "name": "stderr",
     "output_type": "stream",
     "text": [
      " 33%|███▎      | 200010/600000 [03:26<04:08, 1610.12it/s]"
     ]
    },
    {
     "name": "stdout",
     "output_type": "stream",
     "text": [
      "total documents: 200000\n",
      "average doc size in bytes: 39504.0\n",
      "average text size in bytes: 5172.0\n",
      "average word count including html: 2732.0\n",
      "average word count: 819.0\n",
      "average size ration: 0.13424972203267163\n"
     ]
    },
    {
     "data": {
      "text/plain": [
       "<Figure size 1400x500 with 1 Axes>"
      ]
     },
     "metadata": {},
     "output_type": "display_data"
    },
    {
     "data": {
      "text/plain": [
       "<Figure size 1400x500 with 1 Axes>"
      ]
     },
     "metadata": {},
     "output_type": "display_data"
    },
    {
     "data": {
      "text/plain": [
       "<Figure size 1400x500 with 1 Axes>"
      ]
     },
     "metadata": {},
     "output_type": "display_data"
    },
    {
     "data": {
      "text/plain": [
       "<Figure size 1400x500 with 1 Axes>"
      ]
     },
     "metadata": {},
     "output_type": "display_data"
    },
    {
     "data": {
      "text/plain": [
       "<Figure size 1400x500 with 1 Axes>"
      ]
     },
     "metadata": {},
     "output_type": "display_data"
    }
   ],
   "source": [
    "import matplotlib.pyplot as plt\n",
    "from statistics import mean\n",
    "\n",
    "COLLECTION_DIRECTORY = \"byweb\" # directory with .out files to process\n",
    "\n",
    "class PrimaryStatsGetter(BaseDocumentProcessor):\n",
    "    def __init__(self):\n",
    "        \"\"\" do all initialization here \"\"\"\n",
    "        self._docs_count = 0\n",
    "        self._sz_bytes_html = []\n",
    "        self._sz_words_html = []\n",
    "        self._sz_bytes = []\n",
    "        self._sz_words = []\n",
    "    \n",
    "    def process(self, document):\n",
    "        \"\"\" document: Document (see first cell)\n",
    "            process each document here \"\"\"\n",
    "        self._docs_count += 1\n",
    "        self._sz_bytes_html.append(document.sz_bytes)\n",
    "        self._sz_words_html.append(document.sz_words)\n",
    "        self._sz_bytes.append(len(\"\".join(document.words)))\n",
    "        self._sz_words.append(len(document.words))\n",
    "    \n",
    "    def result(self):\n",
    "        \"\"\" summarize and output all data \"\"\"\n",
    "        size_ratio = [x / y for x, y in zip(self._sz_bytes, self._sz_bytes_html)]\n",
    "        print(\"total documents:\", self._docs_count)\n",
    "        print(\"average doc size in bytes:\", round(mean(self._sz_bytes_html), 0))\n",
    "        print(\"average text size in bytes:\", round(mean(self._sz_bytes), 0))\n",
    "        print(\"average word count including html:\", round(mean(self._sz_words_html), 0))\n",
    "        print(\"average word count:\", round(mean(self._sz_words), 0))\n",
    "        print(\"average size ration:\", mean(size_ratio))\n",
    "        \n",
    "        plt.figure(figsize=(14, 5))\n",
    "        plt.hist(self._sz_bytes_html, bins=100, range=(0, 200000))\n",
    "        plt.legend(labels=(\"total doc size\",), fontsize=\"x-large\")\n",
    "        \n",
    "        plt.figure(figsize=(14, 5))\n",
    "        plt.hist(self._sz_bytes, bins=100, range=(0, 20000))\n",
    "        plt.legend(labels=(\"total text size\",), fontsize=\"x-large\")\n",
    "        \n",
    "        plt.figure(figsize=(14, 5))\n",
    "        plt.hist(self._sz_words_html, bins=100, range=(0, 10000))\n",
    "        plt.legend(labels=(\"words including html\",), fontsize=\"x-large\")\n",
    "        \n",
    "        plt.figure(figsize=(14, 5))\n",
    "        plt.hist(self._sz_words, bins=100, range=(0, 4000))\n",
    "        plt.legend(labels=(\"words\",), fontsize=\"x-large\")\n",
    "        \n",
    "        plt.figure(figsize=(14, 5))\n",
    "        plt.hist(size_ratio, bins=100)\n",
    "        plt.legend(labels=(\"size ratio\",), fontsize=\"x-large\")\n",
    "        \n",
    "        plt.show()\n",
    "        \n",
    "processor = PrimaryStatsGetter()        \n",
    "process_collection(COLLECTION_DIRECTORY, processor)\n",
    "processor.result()"
   ]
  },
  {
   "cell_type": "code",
   "execution_count": 6,
   "metadata": {},
   "outputs": [
    {
     "name": "stdout",
     "output_type": "stream",
     "text": [
      "processing byweb/byweb.5.out\n"
     ]
    },
    {
     "name": "stderr",
     "output_type": "stream",
     "text": [
      " 37%|███▋      | 220134/600000 [03:47<07:04, 895.08it/s] "
     ]
    },
    {
     "name": "stdout",
     "output_type": "stream",
     "text": [
      "processing byweb/byweb.4.out\n"
     ]
    },
    {
     "name": "stderr",
     "output_type": "stream",
     "text": [
      " 40%|████      | 240159/600000 [04:06<05:38, 1063.95it/s]"
     ]
    },
    {
     "name": "stdout",
     "output_type": "stream",
     "text": [
      "processing byweb/byweb.6.out\n"
     ]
    },
    {
     "name": "stderr",
     "output_type": "stream",
     "text": [
      " 43%|████▎     | 260180/600000 [04:24<04:39, 1216.73it/s]"
     ]
    },
    {
     "name": "stdout",
     "output_type": "stream",
     "text": [
      "processing byweb/byweb.7.out\n"
     ]
    },
    {
     "name": "stderr",
     "output_type": "stream",
     "text": [
      " 47%|████▋     | 280051/600000 [04:42<04:44, 1125.89it/s]"
     ]
    },
    {
     "name": "stdout",
     "output_type": "stream",
     "text": [
      "processing byweb/byweb.3.out\n"
     ]
    },
    {
     "name": "stderr",
     "output_type": "stream",
     "text": [
      " 50%|█████     | 300055/600000 [05:02<04:35, 1089.22it/s]"
     ]
    },
    {
     "name": "stdout",
     "output_type": "stream",
     "text": [
      "processing byweb/byweb.2.out\n"
     ]
    },
    {
     "name": "stderr",
     "output_type": "stream",
     "text": [
      " 53%|█████▎    | 320168/600000 [05:21<04:06, 1134.35it/s]"
     ]
    },
    {
     "name": "stdout",
     "output_type": "stream",
     "text": [
      "processing byweb/byweb.0.out\n"
     ]
    },
    {
     "name": "stderr",
     "output_type": "stream",
     "text": [
      " 57%|█████▋    | 340148/600000 [05:41<03:39, 1185.02it/s]"
     ]
    },
    {
     "name": "stdout",
     "output_type": "stream",
     "text": [
      "processing byweb/byweb.1.out\n"
     ]
    },
    {
     "name": "stderr",
     "output_type": "stream",
     "text": [
      " 60%|██████    | 360174/600000 [05:56<03:36, 1106.36it/s]"
     ]
    },
    {
     "name": "stdout",
     "output_type": "stream",
     "text": [
      "processing byweb/byweb.9.out\n"
     ]
    },
    {
     "name": "stderr",
     "output_type": "stream",
     "text": [
      " 63%|██████▎   | 380186/600000 [06:15<03:19, 1100.66it/s]"
     ]
    },
    {
     "name": "stdout",
     "output_type": "stream",
     "text": [
      "processing byweb/byweb.8.out\n"
     ]
    },
    {
     "name": "stderr",
     "output_type": "stream",
     "text": [
      " 67%|██████▋   | 399957/600000 [06:34<02:56, 1132.03it/s]"
     ]
    }
   ],
   "source": [
    "COLLECTION_DIRECTORY = \"byweb\" # directory with .out files to process\n",
    "document_urls = {}\n",
    "\n",
    "class GetDocUrls(BaseDocumentProcessor):\n",
    "    def __init__(self):\n",
    "        \"\"\" do all initialization here \"\"\"\n",
    "    \n",
    "    def process(self, document):\n",
    "        \"\"\" document: Document (see first cell)\n",
    "            process each document here \"\"\"\n",
    "        document_url = str(document.url)[2:-1].split(\"?\")[0].split(\"#\")[0]\n",
    "        if document_url[-1] == '/':\n",
    "            document_url = document_url[:-1]\n",
    "        document_urls[document_url] = True\n",
    "        \n",
    "    def result(self):\n",
    "        pass\n",
    "        \n",
    "processor = GetDocUrls()        \n",
    "process_collection(COLLECTION_DIRECTORY, processor)\n",
    "processor.result()"
   ]
  },
  {
   "cell_type": "code",
   "execution_count": 7,
   "metadata": {},
   "outputs": [
    {
     "name": "stderr",
     "output_type": "stream",
     "text": [
      "\r",
      " 67%|██████▋   | 400089/600000 [06:35<07:54, 420.91it/s] "
     ]
    },
    {
     "name": "stdout",
     "output_type": "stream",
     "text": [
      "processing byweb/byweb.5.out\n"
     ]
    },
    {
     "name": "stderr",
     "output_type": "stream",
     "text": [
      " 70%|███████   | 420153/600000 [06:57<03:35, 836.20it/s] "
     ]
    },
    {
     "name": "stdout",
     "output_type": "stream",
     "text": [
      "processing byweb/byweb.4.out\n"
     ]
    },
    {
     "name": "stderr",
     "output_type": "stream",
     "text": [
      " 73%|███████▎  | 440138/600000 [07:18<03:10, 840.19it/s] "
     ]
    },
    {
     "name": "stdout",
     "output_type": "stream",
     "text": [
      "processing byweb/byweb.6.out\n"
     ]
    },
    {
     "name": "stderr",
     "output_type": "stream",
     "text": [
      " 77%|███████▋  | 460149/600000 [07:40<02:34, 906.78it/s] "
     ]
    },
    {
     "name": "stdout",
     "output_type": "stream",
     "text": [
      "processing byweb/byweb.7.out\n"
     ]
    },
    {
     "name": "stderr",
     "output_type": "stream",
     "text": [
      " 80%|████████  | 480053/600000 [08:03<02:15, 882.33it/s] "
     ]
    },
    {
     "name": "stdout",
     "output_type": "stream",
     "text": [
      "processing byweb/byweb.3.out\n"
     ]
    },
    {
     "name": "stderr",
     "output_type": "stream",
     "text": [
      " 83%|████████▎ | 500126/600000 [08:28<02:19, 714.92it/s] "
     ]
    },
    {
     "name": "stdout",
     "output_type": "stream",
     "text": [
      "processing byweb/byweb.2.out\n"
     ]
    },
    {
     "name": "stderr",
     "output_type": "stream",
     "text": [
      " 87%|████████▋ | 520150/600000 [08:51<01:28, 898.12it/s] "
     ]
    },
    {
     "name": "stdout",
     "output_type": "stream",
     "text": [
      "processing byweb/byweb.0.out\n"
     ]
    },
    {
     "name": "stderr",
     "output_type": "stream",
     "text": [
      " 90%|█████████ | 540160/600000 [09:15<01:02, 960.44it/s]"
     ]
    },
    {
     "name": "stdout",
     "output_type": "stream",
     "text": [
      "processing byweb/byweb.1.out\n"
     ]
    },
    {
     "name": "stderr",
     "output_type": "stream",
     "text": [
      " 93%|█████████▎| 560130/600000 [09:39<00:52, 753.85it/s] "
     ]
    },
    {
     "name": "stdout",
     "output_type": "stream",
     "text": [
      "processing byweb/byweb.9.out\n"
     ]
    },
    {
     "name": "stderr",
     "output_type": "stream",
     "text": [
      " 97%|█████████▋| 580136/600000 [10:04<00:28, 700.61it/s] "
     ]
    },
    {
     "name": "stdout",
     "output_type": "stream",
     "text": [
      "processing byweb/byweb.8.out\n"
     ]
    },
    {
     "name": "stderr",
     "output_type": "stream",
     "text": [
      "100%|█████████▉| 599947/600000 [10:31<00:00, 798.47it/s]"
     ]
    },
    {
     "data": {
      "application/vnd.jupyter.widget-view+json": {
       "model_id": "210259c98f244f8b92792d9873a1262a",
       "version_major": 2,
       "version_minor": 0
      },
      "text/plain": [
       "HBox(children=(IntProgress(value=0, max=364160), HTML(value='')))"
      ]
     },
     "metadata": {},
     "output_type": "display_data"
    },
    {
     "name": "stdout",
     "output_type": "stream",
     "text": [
      "\n"
     ]
    },
    {
     "name": "stderr",
     "output_type": "stream",
     "text": [
      "\r",
      "600030it [10:50, 798.47it/s]                            "
     ]
    }
   ],
   "source": [
    "from tqdm import tqdm_notebook\n",
    "import networkx as nx\n",
    "import operator\n",
    "\n",
    "COLLECTION_DIRECTORY = \"byweb\" # directory with .out files to process\n",
    "\n",
    "class GraphBuider(BaseDocumentProcessor):\n",
    "    def __init__(self):\n",
    "        \"\"\" do all initialization here \"\"\"\n",
    "        self.edge_list = []\n",
    "    \n",
    "    def process(self, document):\n",
    "        \"\"\" document: Document (see first cell)\n",
    "            process each document here \"\"\"\n",
    "        links = document.links\n",
    "        document_url = str(document.url)[2:-1].split(\"?\")[0].split(\"#\")[0]\n",
    "        if document_url[-1] == '/':\n",
    "            document_url = document_url[:-1]\n",
    "        links_absolute_no_params = []\n",
    "        for link in links:\n",
    "            if not link:\n",
    "                continue\n",
    "            link_absolute_path = link    \n",
    "            if not (link_absolute_path.startswith(\"http://\") or link_absolute_path.startswith(\"https://\")):\n",
    "                if link_absolute_path[0] == '.':\n",
    "                    link_absolute_path = link_absolute_path[2:]\n",
    "                link_absolute_path = document_url.rsplit(\"/\", 1)[0] + \"/\" + link_absolute_path\n",
    "            link_absolute_no_params = link_absolute_path.split(\"?\")[0].split(\"#\")[0]\n",
    "            if link_absolute_no_params[-1] == '/':\n",
    "                    link_absolute_no_params = link_absolute_no_params[:-1]\n",
    "            if not (link_absolute_no_params in links_absolute_no_params):\n",
    "                links_absolute_no_params.append(link_absolute_no_params)\n",
    "        for link in links_absolute_no_params:\n",
    "            if link in document_urls:\n",
    "                self.edge_list.append((document_url, link))\n",
    "        \n",
    "    def result(self):\n",
    "        graph = nx.DiGraph(self.edge_list)\n",
    "        top_300_page_rank = sorted(nx.pagerank(graph).items(), key=operator.itemgetter(1), reverse=True)[:300]\n",
    "        top_300_page_rank = [x[0] for x in top_300_page_rank]\n",
    "        with open(\"graph4.csv\", \"wt\") as fout:\n",
    "            for in_vertex, out_vertex in tqdm_notebook(graph.edges()):\n",
    "                if in_vertex in top_300_page_rank and out_vertex in top_300_page_rank:\n",
    "                    fout.write(in_vertex)\n",
    "                    fout.write(\";\")\n",
    "                    fout.write(out_vertex)\n",
    "                    fout.write('\\n')    \n",
    "        \n",
    "processor = GraphBuider()        \n",
    "process_collection(COLLECTION_DIRECTORY, processor)\n",
    "processor.result()"
   ]
  },
  {
   "cell_type": "code",
   "execution_count": null,
   "metadata": {},
   "outputs": [],
   "source": []
  },
  {
   "cell_type": "code",
   "execution_count": null,
   "metadata": {},
   "outputs": [],
   "source": []
  }
 ],
 "metadata": {
  "kernelspec": {
   "display_name": "Python 3",
   "language": "python",
   "name": "python3"
  },
  "language_info": {
   "codemirror_mode": {
    "name": "ipython",
    "version": 3
   },
   "file_extension": ".py",
   "mimetype": "text/x-python",
   "name": "python",
   "nbconvert_exporter": "python",
   "pygments_lexer": "ipython3",
   "version": "3.7.3"
  }
 },
 "nbformat": 4,
 "nbformat_minor": 2
}
