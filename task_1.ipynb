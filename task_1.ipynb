{
 "cells": [
  {
   "cell_type": "code",
   "execution_count": 1,
   "metadata": {},
   "outputs": [],
   "source": [
    "class Document:\n",
    "    def __init__(self, doc_url, doc_id, sz_bytes, sz_words):\n",
    "        self.url = doc_url       # document url\n",
    "        self.id = doc_id         # unique document id (int)\n",
    "        self.sz_bytes = sz_bytes # document size in bytes before deleting html markup\n",
    "        self.sz_words = sz_words # number of words in document before deleting html markup\n",
    "        self.words = []          # list of words in document after deleting html markup\n",
    "        self.links = []          # lisk of links in document"
   ]
  },
  {
   "cell_type": "code",
   "execution_count": 2,
   "metadata": {},
   "outputs": [],
   "source": [
    "import base64\n",
    "from bs4 import BeautifulSoup\n",
    "import pickle\n",
    "import os\n",
    "\n",
    "DOCUMENT_TAG = \"<document>\"\n",
    "DOC_URL_TAG = \"<docURL>\"\n",
    "DOC_ID_TAG = \"<docID>\"\n",
    "\n",
    "def preprocess_doc(doc, doc_url, doc_id):\n",
    "    document = Document(doc_url, doc_id, len(doc), len(doc.split()))\n",
    "    try:\n",
    "        soup = BeautifulSoup(doc, \"html.parser\")\n",
    "    except:\n",
    "        print(\"incorrect document:\", doc_url, doc_id)\n",
    "        return document\n",
    "    for script in soup([\"script\", \"style\"]):\n",
    "        script.extract()\n",
    "    for link in soup.find_all('a', href=True):\n",
    "        document.links.append(link[\"href\"])\n",
    "    document.words = soup.get_text(separator=\" \").split()\n",
    "    return document\n",
    "    \n",
    "def preprocess_file(d, f):\n",
    "    print(\"preprocessing\", os.path.join(d, f))\n",
    "    with open(os.path.join(d, f), \"rt\", encoding=\"cp1251\") as fin, open(os.path.join(d, f.replace(\".xml\", \".out\")), \"wb\") as fout:\n",
    "        for line in fin:\n",
    "            if line.startswith(DOCUMENT_TAG):\n",
    "                doc = line[37:-11]\n",
    "            elif line.startswith(DOC_URL_TAG):\n",
    "                doc_url = line[8:-10]\n",
    "            elif line.startswith(DOC_ID_TAG):\n",
    "                doc_id = line[7:-20]\n",
    "                document = preprocess_doc(base64.b64decode(doc), base64.b64decode(doc_url), doc_id)\n",
    "                pickle.dump(document, fout)\n",
    "\n",
    "def preprocess_collection(directory):\n",
    "    for file in os.listdir(directory):\n",
    "        if (file.endswith(\".xml\")):\n",
    "            preprocess_file(directory, file)"
   ]
  },
  {
   "cell_type": "code",
   "execution_count": 3,
   "metadata": {},
   "outputs": [],
   "source": [
    "class BaseDocumentProcessor:\n",
    "    def process(self, document):\n",
    "        pass\n",
    "    def result(self):\n",
    "        pass\n",
    "\n",
    "def process_file(d, f, processor):\n",
    "    print(\"processing\", os.path.join(d, f))\n",
    "    with open(os.path.join(d, f), \"rb\") as fin:\n",
    "        while True:\n",
    "            try:\n",
    "                document = pickle.load(fin)\n",
    "            except:\n",
    "                break\n",
    "            processor.process(document)\n",
    "\n",
    "def process_collection(directory, processor):\n",
    "    for file in os.listdir(directory):\n",
    "        if (file.endswith(\".out\")):\n",
    "            process_file(directory, file, processor)"
   ]
  },
  {
   "cell_type": "code",
   "execution_count": 4,
   "metadata": {},
   "outputs": [
    {
     "name": "stdout",
     "output_type": "stream",
     "text": [
      "processing byweb/byweb.0.out\n",
      "processing byweb/byweb.9.out\n",
      "processing byweb/byweb.1.out\n",
      "processing byweb/byweb.5.out\n",
      "processing byweb/byweb.8.out\n",
      "processing byweb/byweb.7.out\n",
      "processing byweb/byweb.3.out\n",
      "processing byweb/byweb.2.out\n",
      "processing byweb/byweb.6.out\n",
      "processing byweb/byweb.4.out\n",
      "total documents: 200000\n",
      "average doc size in bytes: 39504.0\n",
      "average text size in bytes: 5172.0\n",
      "average word count including html: 2732.0\n",
      "average word count: 819.0\n",
      "average size ration: 0.13424972203267163\n"
     ]
    },
    {
     "data": {
      "text/plain": [
       "<Figure size 1400x500 with 1 Axes>"
      ]
     },
     "metadata": {},
     "output_type": "display_data"
    },
    {
     "data": {
      "text/plain": [
       "<Figure size 1400x500 with 1 Axes>"
      ]
     },
     "metadata": {},
     "output_type": "display_data"
    },
    {
     "data": {
      "text/plain": [
       "<Figure size 1400x500 with 1 Axes>"
      ]
     },
     "metadata": {},
     "output_type": "display_data"
    },
    {
     "data": {
      "text/plain": [
       "<Figure size 1400x500 with 1 Axes>"
      ]
     },
     "metadata": {},
     "output_type": "display_data"
    },
    {
     "data": {
      "text/plain": [
       "<Figure size 1400x500 with 1 Axes>"
      ]
     },
     "metadata": {},
     "output_type": "display_data"
    }
   ],
   "source": [
    "import matplotlib.pyplot as plt\n",
    "from statistics import mean\n",
    "\n",
    "COLLECTION_DIRECTORY = \"byweb\" # directory with .out files to process\n",
    "\n",
    "class PrimaryStatsGetter(BaseDocumentProcessor):\n",
    "    def __init__(self):\n",
    "        \"\"\" do all initialization here \"\"\"\n",
    "        self._docs_count = 0\n",
    "        self._sz_bytes_html = []\n",
    "        self._sz_words_html = []\n",
    "        self._sz_bytes = []\n",
    "        self._sz_words = []\n",
    "    \n",
    "    def process(self, document):\n",
    "        \"\"\" document: Document (see first cell)\n",
    "            process each document here \"\"\"\n",
    "        self._docs_count += 1\n",
    "        self._sz_bytes_html.append(document.sz_bytes)\n",
    "        self._sz_words_html.append(document.sz_words)\n",
    "        self._sz_bytes.append(len(\"\".join(document.words)))\n",
    "        self._sz_words.append(len(document.words))\n",
    "    \n",
    "    def result(self):\n",
    "        \"\"\" summarize and output all data \"\"\"\n",
    "        size_ratio = [x / y for x, y in zip(self._sz_bytes, self._sz_bytes_html)]\n",
    "        print(\"total documents:\", self._docs_count)\n",
    "        print(\"average doc size in bytes:\", round(mean(self._sz_bytes_html), 0))\n",
    "        print(\"average text size in bytes:\", round(mean(self._sz_bytes), 0))\n",
    "        print(\"average word count including html:\", round(mean(self._sz_words_html), 0))\n",
    "        print(\"average word count:\", round(mean(self._sz_words), 0))\n",
    "        print(\"average size ration:\", mean(size_ratio))\n",
    "        \n",
    "        plt.figure(figsize=(14, 5))\n",
    "        plt.hist(self._sz_bytes_html, bins=100, range=(0, 200000))\n",
    "        plt.legend(labels=(\"total doc size\",), fontsize=\"x-large\")\n",
    "        \n",
    "        plt.figure(figsize=(14, 5))\n",
    "        plt.hist(self._sz_bytes, bins=100, range=(0, 20000))\n",
    "        plt.legend(labels=(\"total text size\",), fontsize=\"x-large\")\n",
    "        \n",
    "        plt.figure(figsize=(14, 5))\n",
    "        plt.hist(self._sz_words_html, bins=100, range=(0, 10000))\n",
    "        plt.legend(labels=(\"words including html\",), fontsize=\"x-large\")\n",
    "        \n",
    "        plt.figure(figsize=(14, 5))\n",
    "        plt.hist(self._sz_words, bins=100, range=(0, 4000))\n",
    "        plt.legend(labels=(\"words\",), fontsize=\"x-large\")\n",
    "        \n",
    "        plt.figure(figsize=(14, 5))\n",
    "        plt.hist(size_ratio, bins=100)\n",
    "        plt.legend(labels=(\"size ratio\",), fontsize=\"x-large\")\n",
    "        \n",
    "        plt.show()\n",
    "        \n",
    "processor = PrimaryStatsGetter()        \n",
    "process_collection(COLLECTION_DIRECTORY, processor)\n",
    "processor.result()"
   ]
  }
 ],
 "metadata": {
  "kernelspec": {
   "display_name": "Python 3",
   "language": "python",
   "name": "python3"
  },
  "language_info": {
   "codemirror_mode": {
    "name": "ipython",
    "version": 3
   },
   "file_extension": ".py",
   "mimetype": "text/x-python",
   "name": "python",
   "nbconvert_exporter": "python",
   "pygments_lexer": "ipython3",
   "version": "3.6.8"
  }
 },
 "nbformat": 4,
 "nbformat_minor": 2
}
