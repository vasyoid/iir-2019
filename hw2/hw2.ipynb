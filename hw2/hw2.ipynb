{
 "cells": [
  {
   "cell_type": "code",
   "execution_count": null,
   "metadata": {},
   "outputs": [],
   "source": [
    "''' This cell contains all constants thay may differ on our machines '''\n",
    "\n",
    "ELASTIC_HOST = 'localhost'\n",
    "ELASTIC_PORT = 9200\n",
    "COLLECTION_DIRECTORY = \"../byweb\" # directory with .out files to process\n",
    "COLLECTION_DIRECTORY_MYSTEM = \"../byweb_stem\" # directory with .out files after mystem processing\n",
    "\n",
    "QUERIES_FILE = \"web2008_adhoc.xml\"\n",
    "RELEVANCE_FILE = \"relevant_table_2009.xml\""
   ]
  },
  {
   "cell_type": "code",
   "execution_count": null,
   "metadata": {},
   "outputs": [],
   "source": [
    "%config IPCompleter.greedy=True\n",
    "import re\n",
    "import json\n",
    "from collections import defaultdict\n",
    "from tqdm import tqdm_notebook as tqdm\n",
    "from elasticsearch import Elasticsearch\n",
    "from elasticsearch.helpers import parallel_bulk\n",
    "from pymystem3 import Mystem\n",
    "from sklearn.feature_extraction.text import CountVectorizer\n",
    "import requests\n",
    "from time import time"
   ]
  },
  {
   "cell_type": "code",
   "execution_count": null,
   "metadata": {},
   "outputs": [],
   "source": [
    "es = Elasticsearch([{'host': ELASTIC_HOST, 'port': ELASTIC_PORT, 'timeout': 360, 'maxsize': 25}])"
   ]
  },
  {
   "cell_type": "code",
   "execution_count": null,
   "metadata": {},
   "outputs": [],
   "source": [
    "settings = {\n",
    "    'mappings': {\n",
    "        'properties': {\n",
    "            'content': {\n",
    "                'type': 'text'\n",
    "            }\n",
    "        }\n",
    "    }\n",
    "}"
   ]
  },
  {
   "cell_type": "code",
   "execution_count": null,
   "metadata": {},
   "outputs": [],
   "source": [
    "def recreate_index():\n",
    "    es.indices.delete(index='hw2index')\n",
    "    es.indices.create(index='hw2index', body=settings)"
   ]
  },
  {
   "cell_type": "code",
   "execution_count": null,
   "metadata": {},
   "outputs": [],
   "source": [
    "recreate_index()"
   ]
  },
  {
   "cell_type": "code",
   "execution_count": null,
   "metadata": {},
   "outputs": [],
   "source": [
    "def create_es_action(index, doc_id, document):\n",
    "    return {\n",
    "        '_index': index,\n",
    "        '_id': doc_id,\n",
    "        '_source': document\n",
    "    }"
   ]
  },
  {
   "cell_type": "code",
   "execution_count": null,
   "metadata": {},
   "outputs": [],
   "source": [
    "class Document:\n",
    "    def __init__(self, doc_url, doc_id, sz_bytes, sz_words):\n",
    "        self.url = doc_url       # document url\n",
    "        self.id = doc_id         # unique document id (str)\n",
    "        self.sz_bytes = sz_bytes # document size in bytes before deleting html markup\n",
    "        self.sz_words = sz_words # number of words in document before deleting html markup\n",
    "        self.words = []          # list of words in document after deleting html markup\n",
    "        self.links = []          # lisk of links in document"
   ]
  },
  {
   "cell_type": "code",
   "execution_count": null,
   "metadata": {},
   "outputs": [],
   "source": [
    "import os"
   ]
  },
  {
   "cell_type": "code",
   "execution_count": null,
   "metadata": {},
   "outputs": [],
   "source": [
    "from tqdm import tqdm\n",
    "from tqdm import tqdm_notebook\n",
    "import pickle\n",
    "\n",
    "class BaseDocumentProcessor:\n",
    "    def process(self, document):\n",
    "        pass\n",
    "    def result(self):\n",
    "        pass\n",
    "\n",
    "def process_file(d, f, processor, pbar):\n",
    "    print(\"processing\", os.path.join(d, f))\n",
    "    with open(os.path.join(d, f), \"rb\") as fin:\n",
    "        while True:\n",
    "            pbar.update(1)\n",
    "            try:\n",
    "                document = pickle.load(fin)\n",
    "            except:\n",
    "                break\n",
    "            processor.process(document)\n",
    "\n",
    "def process_collection(directory, processor):\n",
    "    pbar = tqdm(total = 200000)\n",
    "    for file in os.listdir(directory):\n",
    "        if (file.endswith(\".out\")):\n",
    "            process_file(directory, file, processor, pbar)"
   ]
  },
  {
   "cell_type": "code",
   "execution_count": null,
   "metadata": {},
   "outputs": [],
   "source": [
    "\n",
    "class IndexDocs(BaseDocumentProcessor):\n",
    "    def __init__(self):\n",
    "        \"\"\" do all initialization here \"\"\"\n",
    "        self.actions = []\n",
    "    \n",
    "    def process(self, document):\n",
    "        \"\"\" document: Document (see first cell)\n",
    "            process each document here \"\"\"\n",
    "        #print(json.dumps({'content' : document.words}))\n",
    "        self.actions.append(create_es_action('hw2index', document.id, json.dumps({'content' : document.words})))\n",
    "        \n",
    "    def result(self):\n",
    "        return self.actions\n",
    "        \n"
   ]
  },
  {
   "cell_type": "code",
   "execution_count": null,
   "metadata": {},
   "outputs": [],
   "source": [
    "def es_actions_generator():\n",
    "    processor = IndexDocs()        \n",
    "    process_collection(COLLECTION_DIRECTORY, processor)\n",
    "    return processor.result()"
   ]
  },
  {
   "cell_type": "code",
   "execution_count": null,
   "metadata": {},
   "outputs": [],
   "source": [
    "import time"
   ]
  },
  {
   "cell_type": "code",
   "execution_count": null,
   "metadata": {},
   "outputs": [],
   "source": [
    "start = time.time()\n",
    "for ok, result in tqdm_notebook(parallel_bulk(es, es_actions_generator(), queue_size=4, thread_count=4, chunk_size=1000)):\n",
    "    if not ok:\n",
    "        print(result)\n",
    "end = time.time()\n",
    "print('Time=' + str(end - start))\n"
   ]
  },
  {
   "cell_type": "code",
   "execution_count": null,
   "metadata": {},
   "outputs": [],
   "source": [
    "import requests\n",
    "param = (('v', ''),) # '-v' is for --verbose\n",
    "\n",
    "# call the class's method to get an HTTP response model\n",
    "resp = requests.get(f'http://{ELASTIC_HOST}:{ELASTIC_PORT}/_cat/indices', params=param)\n"
   ]
  },
  {
   "cell_type": "code",
   "execution_count": null,
   "metadata": {},
   "outputs": [],
   "source": [
    "resp.text"
   ]
  },
  {
   "cell_type": "code",
   "execution_count": null,
   "metadata": {},
   "outputs": [],
   "source": [
    "settings = {\n",
    "    'mappings': {\n",
    "        'properties': {\n",
    "            'content': {\n",
    "                'type': 'text'\n",
    "            }\n",
    "        }\n",
    "    },\n",
    "    \"settings\": {\n",
    "        \"analysis\" : {\n",
    "            \"analyzer\" : {\n",
    "                \"my_analyzer\" : {\n",
    "                    \"tokenizer\" : \"standard\",\n",
    "                    \"filter\" : [\"lowercase\", \"my_snow\"]\n",
    "                }\n",
    "            },\n",
    "            \"filter\" : {\n",
    "                \"my_snow\" : {\n",
    "                    \"type\" : \"snowball\",\n",
    "                    \"language\" : \"russian\"\n",
    "                }\n",
    "            }\n",
    "        }\n",
    "    }\n",
    "}"
   ]
  },
  {
   "cell_type": "code",
   "execution_count": null,
   "metadata": {},
   "outputs": [],
   "source": [
    "recreate_index()"
   ]
  },
  {
   "cell_type": "code",
   "execution_count": null,
   "metadata": {},
   "outputs": [],
   "source": [
    "start = time.time()\n",
    "for ok, result in tqdm_notebook(parallel_bulk(es, es_actions_generator(), queue_size=4, thread_count=4, chunk_size=1000)):\n",
    "    if not ok:\n",
    "        print(result)\n",
    "end = time.time()\n",
    "print('Time=' + str(end - start))\n",
    "\n"
   ]
  },
  {
   "cell_type": "code",
   "execution_count": null,
   "metadata": {},
   "outputs": [],
   "source": [
    "requests.get(f'http://{ELASTIC_HOST}:{ELASTIC_PORT}/_cat/indices', params=param).text"
   ]
  },
  {
   "cell_type": "code",
   "execution_count": null,
   "metadata": {},
   "outputs": [],
   "source": [
    "from bs4 import BeautifulSoup\n",
    "\n",
    "def read_queries():\n",
    "    queries = {}\n",
    "    with open(QUERIES_FILE, \"rt\", encoding=\"cp1251\") as file:\n",
    "        bs = BeautifulSoup(file.read())\n",
    "        for task in bs.find_all(\"task\"):\n",
    "            queries[task[\"id\"]] = task.text\n",
    "    return queries\n",
    "\n",
    "def read_relevance():\n",
    "    relevance = {}\n",
    "    with open(RELEVANCE_FILE, \"rt\", encoding=\"cp1251\") as file:\n",
    "        bs = BeautifulSoup(file.read())\n",
    "        for task in bs.find_all(\"task\"):\n",
    "            rel = [doc[\"id\"] for doc in task.find_all(\"document\") if doc[\"relevance\"] == \"vital\"]\n",
    "            if rel:\n",
    "                relevance[task[\"id\"]] = rel\n",
    "    return relevance"
   ]
  },
  {
   "cell_type": "code",
   "execution_count": null,
   "metadata": {},
   "outputs": [],
   "source": [
    "relevance = read_relevance()\n",
    "queries = read_queries()"
   ]
  },
  {
   "cell_type": "code",
   "execution_count": null,
   "metadata": {},
   "outputs": [],
   "source": [
    "def build_query(query):\n",
    "    return { 'query': { 'bool': { 'should': [ { 'match': { 'content': query } } ] } } }\n",
    "\n",
    "def run_search(query, size):\n",
    "    search_result = es.search(index='hw2index', body=build_query(query), size=size)['hits']\n",
    "    return [hit['_id'] for hit in search_result['hits']]\n",
    "\n",
    "def count_metrics():\n",
    "    p = 0\n",
    "    r = 0\n",
    "    rp = 0\n",
    "    ma_p = 0\n",
    "    n = 0\n",
    "    for qid, query in queries.items():\n",
    "        if qid not in relevance.keys():\n",
    "            continue\n",
    "        n += 1\n",
    "        rel = relevance[qid]\n",
    "        relevant = len(rel)\n",
    "        hits = run_search(query, max(20, relevant))\n",
    "        hits_r = hits[:relevant]\n",
    "        hits_20 = hits[:20]\n",
    "        true_positive_20 = sum(1 for did in hits_20 if did in rel)\n",
    "        true_positive_r = sum(1 for did in hits_r if did in rel)\n",
    "        p += true_positive_20 / 20\n",
    "        r += true_positive_20 / relevant\n",
    "        rp += true_positive_r / relevant\n",
    "        ma_p += sum(sum(1 for did in hits[:k] if did in rel) / k for k in range(1, 21)) / 20\n",
    "    print(\"p@20:\", p / n)\n",
    "    print(\"r@20:\", r / n)\n",
    "    print(\"r-precision:\", rp / n)\n",
    "    print(\"map@20:\", ma_p / n)"
   ]
  },
  {
   "cell_type": "code",
   "execution_count": null,
   "metadata": {},
   "outputs": [],
   "source": [
    "count_metrics()"
   ]
  },
  {
   "cell_type": "code",
   "execution_count": null,
   "metadata": {},
   "outputs": [],
   "source": [
    "class MystemProcessor(BaseDocumentProcessor):\n",
    "    def __init__(self, fout):\n",
    "        self.m = Mystem(grammar_info=False, disambiguation=False)\n",
    "        reg = re.compile('[a-zа-яё0-9\\-]')\n",
    "        self.filterFunc = lambda w : reg.match(w)\n",
    "        self.fout = fout\n",
    "\n",
    "    def process(self, document):\n",
    "        text = ' '.join(document.words).lower()\n",
    "        lemmas = self.m.lemmatize(text)\n",
    "        words = list(filter(self.filterFunc, lemmas))\n",
    "        doc = Document(document.url, document.id, document.sz_bytes, document.sz_words)\n",
    "        doc.words = words\n",
    "        doc.links = document.links\n",
    "        pickle.dump(doc, self.fout)\n",
    "\n",
    "         \n",
    "    def result(self):\n",
    "        pass\n",
    "\n",
    "def process_collection_with_mystem(directory, outdirectory):\n",
    "    pbar = tqdm(total = 200000)\n",
    "    for file in os.listdir(directory):\n",
    "        if (file.endswith(\".out\")):        \n",
    "            with open(os.path.join(outdirectory, file), \"wb\") as fout:\n",
    "                processor = MystemProcessor(fout)\n",
    "                process_file(directory, file, processor, pbar)"
   ]
  },
  {
   "cell_type": "code",
   "execution_count": null,
   "metadata": {},
   "outputs": [],
   "source": [
    "process_collection_with_mystem(COLLECTION_DIRECTORY, COLLECTION_DIRECTORY_MYSTEM)"
   ]
  },
  {
   "cell_type": "code",
   "execution_count": null,
   "metadata": {},
   "outputs": [],
   "source": [
    "def stem_queries(queries):\n",
    "    m = Mystem(grammar_info=False, disambiguation=False)\n",
    "    reg = re.compile('[a-zа-яё0-9\\-]')\n",
    "    filterFunc = lambda w : reg.match(w)\n",
    "    result = {}\n",
    "    for (qid, text) in queries:\n",
    "        result[qid] = ' '.join(filter(filterFunc, m.lemmatize(text)))\n",
    "    return result"
   ]
  }
 ],
 "metadata": {
  "kernelspec": {
   "display_name": "Python 3",
   "language": "python",
   "name": "python3"
  },
  "language_info": {
   "codemirror_mode": {
    "name": "ipython",
    "version": 3
   },
   "file_extension": ".py",
   "mimetype": "text/x-python",
   "name": "python",
   "nbconvert_exporter": "python",
   "pygments_lexer": "ipython3",
   "version": "3.6.8"
  }
 },
 "nbformat": 4,
 "nbformat_minor": 1
}
