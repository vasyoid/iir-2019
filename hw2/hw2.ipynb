{
 "cells": [
  {
   "cell_type": "code",
   "execution_count": 1,
   "metadata": {},
   "outputs": [],
   "source": [
    "%config IPCompleter.greedy=True\n",
    "import re\n",
    "import json\n",
    "from collections import defaultdict\n",
    "from tqdm import tqdm_notebook as tqdm\n",
    "from elasticsearch import Elasticsearch\n",
    "from elasticsearch.helpers import parallel_bulk\n",
    "from pymystem3 import Mystem\n",
    "from sklearn.feature_extraction.text import CountVectorizer\n",
    "import requests\n",
    "from time import time"
   ]
  },
  {
   "cell_type": "code",
   "execution_count": 2,
   "metadata": {},
   "outputs": [],
   "source": [
    "es = Elasticsearch([{'host': 'localhost', 'port': 9200, 'timeout': 360, 'maxsize': 25}])"
   ]
  },
  {
   "cell_type": "code",
   "execution_count": 3,
   "metadata": {},
   "outputs": [],
   "source": [
    "settings = {\n",
    "    'mappings': {\n",
    "        'properties': {\n",
    "            'content': {\n",
    "                'type': 'text'\n",
    "            }\n",
    "        }\n",
    "    }\n",
    "}"
   ]
  },
  {
   "cell_type": "code",
   "execution_count": 4,
   "metadata": {},
   "outputs": [],
   "source": [
    "def recreate_index():\n",
    "    es.indices.delete(index='hw2index')\n",
    "    es.indices.create(index='hw2index', body=settings)"
   ]
  },
  {
   "cell_type": "code",
   "execution_count": 5,
   "metadata": {},
   "outputs": [],
   "source": [
    "recreate_index()"
   ]
  },
  {
   "cell_type": "code",
   "execution_count": 6,
   "metadata": {},
   "outputs": [],
   "source": [
    "def create_es_action(index, doc_id, document):\n",
    "    return {\n",
    "        '_index': index,\n",
    "        '_id': doc_id,\n",
    "        '_source': document\n",
    "    }"
   ]
  },
  {
   "cell_type": "code",
   "execution_count": 7,
   "metadata": {},
   "outputs": [],
   "source": [
    "class Document:\n",
    "    def __init__(self, doc_url, doc_id, sz_bytes, sz_words):\n",
    "        self.url = doc_url       # document url\n",
    "        self.id = doc_id         # unique document id (str)\n",
    "        self.sz_bytes = sz_bytes # document size in bytes before deleting html markup\n",
    "        self.sz_words = sz_words # number of words in document before deleting html markup\n",
    "        self.words = []          # list of words in document after deleting html markup\n",
    "        self.links = []          # lisk of links in document"
   ]
  },
  {
   "cell_type": "code",
   "execution_count": 8,
   "metadata": {},
   "outputs": [],
   "source": [
    "import os"
   ]
  },
  {
   "cell_type": "code",
   "execution_count": 9,
   "metadata": {},
   "outputs": [],
   "source": [
    "from tqdm import tqdm\n",
    "from tqdm import tqdm_notebook\n",
    "import pickle\n",
    "\n",
    "class BaseDocumentProcessor:\n",
    "    def process(self, document):\n",
    "        pass\n",
    "    def result(self):\n",
    "        pass\n",
    "\n",
    "def process_file(d, f, processor, pbar):\n",
    "    print(\"processing\", os.path.join(d, f))\n",
    "    with open(os.path.join(d, f), \"rb\") as fin:\n",
    "        while True:\n",
    "            pbar.update(1)\n",
    "            try:\n",
    "                document = pickle.load(fin)\n",
    "            except:\n",
    "                break\n",
    "            processor.process(document)\n",
    "\n",
    "def process_collection(directory, processor):\n",
    "    pbar = tqdm(total = 200000)\n",
    "    for file in os.listdir(directory):\n",
    "        if (file.endswith(\".out\")):\n",
    "            process_file(directory, file, processor, pbar)"
   ]
  },
  {
   "cell_type": "code",
   "execution_count": 10,
   "metadata": {},
   "outputs": [],
   "source": [
    "COLLECTION_DIRECTORY = \"byweb\" # directory with .out files to process\n",
    "\n",
    "class IndexDocs(BaseDocumentProcessor):\n",
    "    def __init__(self):\n",
    "        \"\"\" do all initialization here \"\"\"\n",
    "        self.actions = []\n",
    "    \n",
    "    def process(self, document):\n",
    "        \"\"\" document: Document (see first cell)\n",
    "            process each document here \"\"\"\n",
    "        #print(json.dumps({'content' : document.words}))\n",
    "        self.actions.append(create_es_action('hw2index', document.id, json.dumps({'content' : document.words})))\n",
    "        \n",
    "    def result(self):\n",
    "        return self.actions\n",
    "        \n"
   ]
  },
  {
   "cell_type": "code",
   "execution_count": 11,
   "metadata": {},
   "outputs": [],
   "source": [
    "def es_actions_generator():\n",
    "    processor = IndexDocs()        \n",
    "    process_collection(COLLECTION_DIRECTORY, processor)\n",
    "    return processor.result()"
   ]
  },
  {
   "cell_type": "code",
   "execution_count": 12,
   "metadata": {},
   "outputs": [],
   "source": [
    "import time"
   ]
  },
  {
   "cell_type": "code",
   "execution_count": 13,
   "metadata": {},
   "outputs": [
    {
     "name": "stderr",
     "output_type": "stream",
     "text": [
      "  0%|          | 230/200000 [00:00<03:15, 1022.83it/s]"
     ]
    },
    {
     "name": "stdout",
     "output_type": "stream",
     "text": [
      "processing byweb/byweb.5.out\n"
     ]
    },
    {
     "name": "stderr",
     "output_type": "stream",
     "text": [
      " 10%|█         | 20250/200000 [00:18<02:26, 1228.25it/s]"
     ]
    },
    {
     "name": "stdout",
     "output_type": "stream",
     "text": [
      "processing byweb/byweb.4.out\n"
     ]
    },
    {
     "name": "stderr",
     "output_type": "stream",
     "text": [
      " 20%|██        | 40147/200000 [00:34<02:00, 1330.84it/s]"
     ]
    },
    {
     "name": "stdout",
     "output_type": "stream",
     "text": [
      "processing byweb/byweb.6.out\n"
     ]
    },
    {
     "name": "stderr",
     "output_type": "stream",
     "text": [
      " 30%|███       | 60168/200000 [00:51<01:36, 1452.38it/s]"
     ]
    },
    {
     "name": "stdout",
     "output_type": "stream",
     "text": [
      "processing byweb/byweb.7.out\n"
     ]
    },
    {
     "name": "stderr",
     "output_type": "stream",
     "text": [
      " 40%|████      | 80018/200000 [01:08<02:05, 953.31it/s] "
     ]
    },
    {
     "name": "stdout",
     "output_type": "stream",
     "text": [
      "processing byweb/byweb.3.out\n"
     ]
    },
    {
     "name": "stderr",
     "output_type": "stream",
     "text": [
      " 50%|█████     | 100149/200000 [01:29<01:24, 1177.95it/s]"
     ]
    },
    {
     "name": "stdout",
     "output_type": "stream",
     "text": [
      "processing byweb/byweb.2.out\n"
     ]
    },
    {
     "name": "stderr",
     "output_type": "stream",
     "text": [
      " 60%|██████    | 120106/200000 [01:46<00:54, 1467.51it/s]"
     ]
    },
    {
     "name": "stdout",
     "output_type": "stream",
     "text": [
      "processing byweb/byweb.0.out\n"
     ]
    },
    {
     "name": "stderr",
     "output_type": "stream",
     "text": [
      " 70%|███████   | 140135/200000 [02:07<01:05, 919.56it/s] "
     ]
    },
    {
     "name": "stdout",
     "output_type": "stream",
     "text": [
      "processing byweb/byweb.1.out\n"
     ]
    },
    {
     "name": "stderr",
     "output_type": "stream",
     "text": [
      " 80%|████████  | 160148/200000 [02:28<00:42, 945.39it/s] "
     ]
    },
    {
     "name": "stdout",
     "output_type": "stream",
     "text": [
      "processing byweb/byweb.9.out\n"
     ]
    },
    {
     "name": "stderr",
     "output_type": "stream",
     "text": [
      " 90%|█████████ | 180101/200000 [02:50<00:31, 623.70it/s] "
     ]
    },
    {
     "name": "stdout",
     "output_type": "stream",
     "text": [
      "processing byweb/byweb.8.out\n"
     ]
    },
    {
     "name": "stderr",
     "output_type": "stream",
     "text": [
      "100%|█████████▉| 199983/200000 [03:12<00:00, 1479.79it/s]"
     ]
    },
    {
     "data": {
      "application/vnd.jupyter.widget-view+json": {
       "model_id": "06c4c077abcb486481bb5ba4433b343f",
       "version_major": 2,
       "version_minor": 0
      },
      "text/plain": [
       "HBox(children=(IntProgress(value=1, bar_style='info', max=1), HTML(value='')))"
      ]
     },
     "metadata": {},
     "output_type": "display_data"
    },
    {
     "name": "stderr",
     "output_type": "stream",
     "text": [
      "\r",
      "200010it [03:30, 1479.79it/s]                            "
     ]
    },
    {
     "name": "stdout",
     "output_type": "stream",
     "text": [
      "\n",
      "Time=526.7886590957642\n"
     ]
    }
   ],
   "source": [
    "start = time.time()\n",
    "for ok, result in tqdm_notebook(parallel_bulk(es, es_actions_generator(), queue_size=4, thread_count=4, chunk_size=1000)):\n",
    "    if not ok:\n",
    "        print(result)\n",
    "end = time.time()\n",
    "print('Time=' + str(end - start))\n"
   ]
  },
  {
   "cell_type": "code",
   "execution_count": 14,
   "metadata": {},
   "outputs": [],
   "source": [
    "import requests\n",
    "param = (('v', ''),) # '-v' is for --verbose\n",
    "\n",
    "# call the class's method to get an HTTP response model\n",
    "resp = requests.get('http://localhost:9200/_cat/indices', params=param)\n"
   ]
  },
  {
   "cell_type": "code",
   "execution_count": 15,
   "metadata": {},
   "outputs": [
    {
     "data": {
      "text/plain": [
       "'health status index    uuid                   pri rep docs.count docs.deleted store.size pri.store.size\\nyellow open   hw2index zhD-IERTSaO-K6Z-Ta7X4w   1   1     196928            0      2.9gb          2.9gb\\n'"
      ]
     },
     "execution_count": 15,
     "metadata": {},
     "output_type": "execute_result"
    }
   ],
   "source": [
    "resp.text"
   ]
  },
  {
   "cell_type": "code",
   "execution_count": null,
   "metadata": {},
   "outputs": [],
   "source": []
  }
 ],
 "metadata": {
  "kernelspec": {
   "display_name": "Python 3",
   "language": "python",
   "name": "python3"
  },
  "language_info": {
   "codemirror_mode": {
    "name": "ipython",
    "version": 3
   },
   "file_extension": ".py",
   "mimetype": "text/x-python",
   "name": "python",
   "nbconvert_exporter": "python",
   "pygments_lexer": "ipython3",
   "version": "3.7.3"
  }
 },
 "nbformat": 4,
 "nbformat_minor": 1
}
