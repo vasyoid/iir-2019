{
 "cells": [
  {
   "cell_type": "code",
   "execution_count": null,
   "metadata": {},
   "outputs": [],
   "source": [
    "''' This cell contains all constants thay may differ on our machines '''\n",
    "\n",
    "ELASTIC_HOST = 'localhost'\n",
    "ELASTIC_PORT = 9200\n",
    "COLLECTION_DIRECTORY = \"byweb\" # directory with .out files to process\n",
    "COLLECTION_DIRECTORY_MYSTEM = \"../byweb_stem\" # directory with .out files after mystem processing\n",
    "\n",
    "QUERIES_FILE = \"web2008_adhoc.xml\"\n",
    "RELEVANCE_FILE = \"relevant_table_2009.xml\""
   ]
  },
  {
   "cell_type": "code",
   "execution_count": null,
   "metadata": {},
   "outputs": [],
   "source": [
    "%config IPCompleter.greedy=True\n",
    "import re\n",
    "import json\n",
    "from collections import defaultdict\n",
    "from tqdm import tqdm_notebook as tqdm\n",
    "from elasticsearch import Elasticsearch\n",
    "from elasticsearch.helpers import parallel_bulk\n",
    "from pymystem3 import Mystem\n",
    "from sklearn.feature_extraction.text import CountVectorizer\n",
    "import requests\n",
    "from time import time"
   ]
  },
  {
   "cell_type": "code",
   "execution_count": null,
   "metadata": {},
   "outputs": [],
   "source": [
    "es = Elasticsearch([{'host': ELASTIC_HOST, 'port': ELASTIC_PORT, 'timeout': 360, 'maxsize': 25}])"
   ]
  },
  {
   "cell_type": "code",
   "execution_count": null,
   "metadata": {},
   "outputs": [],
   "source": [
    "settings = {\n",
    "    'mappings': {\n",
    "        'properties': {\n",
    "            'content': {\n",
    "                'type': 'text'\n",
    "            },\n",
    "            'title': {\n",
    "                'type' : 'text'\n",
    "            }\n",
    "        }\n",
    "    }\n",
    "}"
   ]
  },
  {
   "cell_type": "code",
   "execution_count": null,
   "metadata": {},
   "outputs": [],
   "source": [
    "def recreate_index(index_name):\n",
    "    try:\n",
    "        es.indices.delete(index=index_name)\n",
    "    except:\n",
    "        pass\n",
    "    es.indices.create(index=index_name, body=settings)"
   ]
  },
  {
   "cell_type": "code",
   "execution_count": null,
   "metadata": {},
   "outputs": [],
   "source": [
    "recreate_index('hw2index')\n",
    "# recreate_index('hw2index_stem')"
   ]
  },
  {
   "cell_type": "code",
   "execution_count": null,
   "metadata": {},
   "outputs": [],
   "source": [
    "def create_es_action(index, doc_id, document):\n",
    "    return {\n",
    "        '_index': index,\n",
    "        '_id': doc_id,\n",
    "        '_source': document\n",
    "    }"
   ]
  },
  {
   "cell_type": "code",
   "execution_count": null,
   "metadata": {},
   "outputs": [],
   "source": [
    "class Document:\n",
    "    def __init__(self, doc_url, doc_id, sz_bytes, sz_words):\n",
    "        self.url = doc_url       # document url\n",
    "        self.id = doc_id         # unique document id (str)\n",
    "        self.sz_bytes = sz_bytes # document size in bytes before deleting html markup\n",
    "        self.sz_words = sz_words # number of words in document before deleting html markup\n",
    "        self.words = []          # list of words in document after deleting html markup\n",
    "        self.links = []          # lisk of links in document"
   ]
  },
  {
   "cell_type": "code",
   "execution_count": null,
   "metadata": {},
   "outputs": [],
   "source": [
    "import os\n",
    "from tqdm import tqdm\n",
    "from tqdm import tqdm_notebook\n",
    "import pickle\n",
    " \n",
    "class BaseDocumentProcessor:\n",
    "    def process(self, document, title):\n",
    "        pass\n",
    "    def result(self):\n",
    "        pass\n",
    "    \n",
    "def process_file(d, f, processor, pbar):\n",
    "    print(\"processing\", os.path.join(d, f))\n",
    "    with open(os.path.join(d, f), \"rb\") as fin, open(os.path.join(d, f.replace(\".out\", \".title\")), \"rb\") as tfin:\n",
    "        dct = pickle.load(tfin)\n",
    "        while True:\n",
    "            pbar.update(1)\n",
    "            try:\n",
    "                document = pickle.load(fin)\n",
    "            except:\n",
    "                break\n",
    "            processor.process(document, dct[document.id])\n",
    "            \n",
    "def process_collection(directory, processor):\n",
    "    pbar = tqdm(total = 200000)\n",
    "    for file in os.listdir(directory):\n",
    "        if (file.endswith(\".out\")):\n",
    "            process_file(directory, file, processor, pbar)"
   ]
  },
  {
   "cell_type": "code",
   "execution_count": null,
   "metadata": {},
   "outputs": [],
   "source": [
    "document_urls = {}\n",
    "\n",
    "class GetDocUrls(BaseDocumentProcessor):\n",
    "    def __init__(self):\n",
    "        \"\"\" do all initialization here \"\"\"\n",
    "    \n",
    "    def process(self, document, title):\n",
    "        \"\"\" document: Document (see first cell)\n",
    "            process each document here \"\"\"\n",
    "        document_url = str(document.url)[2:-1].split(\"?\")[0].split(\"#\")[0]\n",
    "        if document_url[-1] == '/':\n",
    "            document_url = document_url[:-1]\n",
    "        document_urls[document_url] = True\n",
    "        \n",
    "    def result(self):\n",
    "        pass\n",
    "        \n",
    "processor = GetDocUrls()        \n",
    "process_collection(COLLECTION_DIRECTORY, processor)\n",
    "processor.result()"
   ]
  },
  {
   "cell_type": "code",
   "execution_count": null,
   "metadata": {},
   "outputs": [],
   "source": [
    "from tqdm import tqdm_notebook\n",
    "import networkx as nx\n",
    "import operator\n",
    "pagerank_dict = {}\n",
    "\n",
    "class GraphBuider(BaseDocumentProcessor):\n",
    "    def __init__(self):\n",
    "        \"\"\" do all initialization here \"\"\"\n",
    "        self.edge_list = []\n",
    "    \n",
    "    def process(self, document, title):\n",
    "        \"\"\" document: Document (see first cell)\n",
    "            process each document here \"\"\"\n",
    "        links = document.links\n",
    "        document_url = str(document.url)[2:-1].split(\"?\")[0].split(\"#\")[0]\n",
    "        if document_url[-1] == '/':\n",
    "            document_url = document_url[:-1]\n",
    "        links_absolute_no_params = []\n",
    "        for link in links:\n",
    "            if not link:\n",
    "                continue\n",
    "            link_absolute_path = link    \n",
    "            if not (link_absolute_path.startswith(\"http://\") or link_absolute_path.startswith(\"https://\")):\n",
    "                if link_absolute_path[0] == '.':\n",
    "                    link_absolute_path = link_absolute_path[2:]\n",
    "                link_absolute_path = document_url.rsplit(\"/\", 1)[0] + \"/\" + link_absolute_path\n",
    "            link_absolute_no_params = link_absolute_path.split(\"?\")[0].split(\"#\")[0]\n",
    "            if link_absolute_no_params[-1] == '/':\n",
    "                    link_absolute_no_params = link_absolute_no_params[:-1]\n",
    "            if not (link_absolute_no_params in links_absolute_no_params):\n",
    "                links_absolute_no_params.append(link_absolute_no_params)\n",
    "        for link in links_absolute_no_params:\n",
    "            if link in document_urls:\n",
    "                self.edge_list.append((document_url, link))\n",
    "        \n",
    "    def result(self):\n",
    "        graph = nx.DiGraph(self.edge_list)\n",
    "        return nx.pagerank(graph)\n",
    "        \n",
    "processor = GraphBuider()        \n",
    "process_collection(COLLECTION_DIRECTORY, processor)\n",
    "pagerank_dict = processor.result()"
   ]
  },
  {
   "cell_type": "code",
   "execution_count": null,
   "metadata": {},
   "outputs": [],
   "source": [
    "class IndexDocs(BaseDocumentProcessor):\n",
    "    def __init__(self, index_name):\n",
    "        \"\"\" do all initialization here \"\"\"\n",
    "        self.actions = []\n",
    "        self.index_name = index_name        \n",
    "    \n",
    "    def process(self, document, title):\n",
    "        \"\"\" document: Document (see first cell)\n",
    "            process each document here \"\"\"\n",
    "        document_url = str(document.url)[2:-1].split(\"?\")[0].split(\"#\")[0]\n",
    "        if document_url[-1] == '/':\n",
    "            document_url = document_url[:-1]\n",
    "        pagerank = 0     \n",
    "#         if document_url in pagerank_dict.keys():\n",
    "#             pagerank = max(0.00005, pagerank_dict[document_url])\n",
    "        self.actions.append(create_es_action(self.index_name, document.id, json.dumps({'content' : document.words, 'title' : title})))\n",
    "        \n",
    "    def result(self):\n",
    "        return self.actions\n",
    "        \n"
   ]
  },
  {
   "cell_type": "code",
   "execution_count": null,
   "metadata": {},
   "outputs": [],
   "source": [
    "def es_actions_generator(index_name, collection_directory):\n",
    "    processor = IndexDocs(index_name)\n",
    "    start = time.time()\n",
    "    process_collection(collection_directory, processor)\n",
    "    end = time.time()\n",
    "    print(\"preprocess time = \", end - start)\n",
    "    return processor.result()"
   ]
  },
  {
   "cell_type": "code",
   "execution_count": null,
   "metadata": {},
   "outputs": [],
   "source": [
    "import time\n",
    "start = time.time()\n",
    "for ok, result in tqdm_notebook(parallel_bulk(es, es_actions_generator('hw2index', COLLECTION_DIRECTORY), queue_size=4, thread_count=4, chunk_size=1000)):\n",
    "    if not ok:\n",
    "        print(result)\n",
    "end = time.time()\n",
    "print('Time=' + str(end - start))\n"
   ]
  },
  {
   "cell_type": "code",
   "execution_count": null,
   "metadata": {},
   "outputs": [],
   "source": [
    "import requests\n",
    "param = (('v', ''),) # '-v' is for --verbose\n",
    "\n",
    "# call the class's method to get an HTTP response model\n",
    "resp = requests.get(f'http://{ELASTIC_HOST}:{ELASTIC_PORT}/_cat/indices', params=param)\n",
    "resp.text"
   ]
  },
  {
   "cell_type": "code",
   "execution_count": null,
   "metadata": {},
   "outputs": [],
   "source": [
    "from bs4 import BeautifulSoup\n",
    "\n",
    "def read_queries():\n",
    "    queries = {}\n",
    "    with open(QUERIES_FILE, \"rt\", encoding=\"cp1251\") as file:\n",
    "        bs = BeautifulSoup(file.read())\n",
    "        for task in bs.find_all(\"task\"):\n",
    "            queries[task[\"id\"]] = task.text\n",
    "    return queries\n",
    "\n",
    "def read_relevance():\n",
    "    relevance = {}\n",
    "    with open(RELEVANCE_FILE, \"rt\", encoding=\"cp1251\") as file:\n",
    "        bs = BeautifulSoup(file.read())\n",
    "        for task in bs.find_all(\"task\"):\n",
    "            rel = [doc[\"id\"] for doc in task.find_all(\"document\") if doc[\"relevance\"] == \"vital\"]\n",
    "            if rel:\n",
    "                relevance[task[\"id\"]] = rel\n",
    "    return relevance"
   ]
  },
  {
   "cell_type": "code",
   "execution_count": null,
   "metadata": {},
   "outputs": [],
   "source": [
    "relevance = read_relevance()\n",
    "queries = read_queries()"
   ]
  },
  {
   "cell_type": "code",
   "execution_count": null,
   "metadata": {},
   "outputs": [],
   "source": [
    "class DocById(BaseDocumentProcessor):\n",
    "    def __init__(self):\n",
    "        \"\"\" do all initialization here \"\"\"\n",
    "        self.docs = {}     \n",
    "    \n",
    "    def process(self, document, title):\n",
    "        \"\"\" document: Document (see first cell)\n",
    "            process each document here \"\"\"\n",
    "        self.docs[document.id] = document\n",
    "    def result(self):\n",
    "        return self.docs\n",
    "        \n",
    "\n"
   ]
  },
  {
   "cell_type": "code",
   "execution_count": null,
   "metadata": {},
   "outputs": [],
   "source": [
    "processor = DocById()        \n",
    "process_collection(COLLECTION_DIRECTORY, processor)\n",
    "documents_by_id = processor.result()"
   ]
  },
  {
   "cell_type": "code",
   "execution_count": null,
   "metadata": {},
   "outputs": [],
   "source": [
    "from rank_bm25 import BM25Okapi #https://pypi.org/project/rank-bm25/ examples\n",
    "from rank_bm25 import BM25Plus\n",
    "\n",
    "def build_query(query):\n",
    "    return {\n",
    "            'query': {\n",
    "                'bool': {\n",
    "                    'should': [\n",
    "                        {\n",
    "                            'match': {\n",
    "                                'content': {\n",
    "                                    'query': query,\n",
    "                                    'boost': 1\n",
    "                                }\n",
    "                            }\n",
    "                        },\n",
    "                        {\n",
    "                            'match': {\n",
    "                                'title': {\n",
    "                                    'query': query,\n",
    "                                    'operator': 'OR',\n",
    "                                    'boost': 0.3\n",
    "                                }\n",
    "                            }\n",
    "                        },\n",
    "                    ]\n",
    "                }\n",
    "            }\n",
    "        }\n",
    "\n",
    "def run_search(query, size, index_name):\n",
    "    search_result = es.search(index=index_name, body=build_query(query), size=size)['hits']\n",
    "    return [hit['_id'] for hit in search_result['hits']]\n",
    "\n",
    "def prepare_testing(index_name, queries):\n",
    "    did, qid, y = [], [], []\n",
    "    for query in tqdm_notebook(queries.keys()):\n",
    "        doc_ids = run_search(queries[query], 100, index_name)\n",
    "        if (len(doc_ids) == 0):\n",
    "            continue\n",
    "        for res in doc_ids:\n",
    "            did.append(res)\n",
    "            qid.append(query)\n",
    "        for id_ in doc_ids:\n",
    "            if query in relevance.keys() and id_ in relevance[query]:\n",
    "                y.append(1)\n",
    "            else:\n",
    "                y.append(0)\n",
    "    return did, qid, y              "
   ]
  },
  {
   "cell_type": "code",
   "execution_count": null,
   "metadata": {},
   "outputs": [],
   "source": [
    "did, qid, y = prepare_testing('hw2index', queries)"
   ]
  },
  {
   "cell_type": "code",
   "execution_count": null,
   "metadata": {},
   "outputs": [],
   "source": [
    "import numpy as np\n",
    "import pickle\n",
    "\n",
    "m1 = pickle.load(\"m1.dat\")\n",
    "m2 = pickle.load(\"m2.dat\")\n",
    "m3 = pickle.load(\"m3.dat\")\n",
    "m4 = pickle.load(\"m4.dat\")\n",
    "m5 = pickle.load(\"m5.dat\")\n",
    "m6 = pickle.load(\"m6.dat\")\n",
    "id_to_ind = pickle.load(\"id_to_ind.dat\")\n",
    "id_to_url = pickle.load(\"id_to_url.dat\")\n",
    "\n",
    "x = []\n",
    "for i in range(len(y)):\n",
    "    v = np.zeros((6,))\n",
    "    v[0] = m1[qid[i]][id_to_ind[did[i]]]\n",
    "    v[1] = m2[id_to_ind[did[i]]]\n",
    "    v[2] = m3[qid[i]][id_to_ind[did[i]]]\n",
    "    v[3] = m4[id_to_ind[id_to_url[did[i]]]]\n",
    "    v[4] = m5[qid[i]]\n",
    "    v[5] = m6[qid[i]]\n",
    "    x.append(v)"
   ]
  },
  {
   "cell_type": "code",
   "execution_count": null,
   "metadata": {},
   "outputs": [],
   "source": [
    "from catboost import Pool\n",
    "\n",
    "x = np.array(x)\n",
    "qid = np.array(qid)\n",
    "y = np.array(y)\n",
    "test = Pool(data=x, label=y, group_id=qid)"
   ]
  },
  {
   "cell_type": "code",
   "execution_count": null,
   "metadata": {},
   "outputs": [],
   "source": [
    "from catboost import CatBoost\n",
    "from statistics import mean\n",
    "\n",
    "model = CatBoost.load_model(\"byweb_model.md\")\n",
    "print(\"test: \", mean(model.eval_metrics(test, ['NDCG:top=20'])['NDCG:top=20;type=Base']))"
   ]
  }
 ],
 "metadata": {
  "kernelspec": {
   "display_name": "Python 3",
   "language": "python",
   "name": "python3"
  },
  "language_info": {
   "codemirror_mode": {
    "name": "ipython",
    "version": 3
   },
   "file_extension": ".py",
   "mimetype": "text/x-python",
   "name": "python",
   "nbconvert_exporter": "python",
   "pygments_lexer": "ipython3",
   "version": "3.6.8"
  }
 },
 "nbformat": 4,
 "nbformat_minor": 1
}
