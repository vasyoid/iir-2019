{
 "cells": [
  {
   "cell_type": "code",
   "execution_count": 15,
   "metadata": {},
   "outputs": [],
   "source": [
    "''' This cell contains all constants thay may differ on our machines '''\n",
    "\n",
    "ELASTIC_HOST = 'localhost'\n",
    "ELASTIC_PORT = 9200\n",
    "COLLECTION_DIRECTORY = \"../byweb\" # directory with .out files to process\n",
    "COLLECTION_DIRECTORY_MYSTEM = \"../byweb_stem\" # directory with .out files after mystem processing\n",
    "\n",
    "QUERIES_FILE = \"../web2008_adhoc.xml\"\n",
    "RELEVANCE_FILE = \"../relevant_table_2009.xml\""
   ]
  },
  {
   "cell_type": "code",
   "execution_count": 61,
   "metadata": {},
   "outputs": [],
   "source": [
    "class Document:\n",
    "    def __init__(self, doc_url, doc_id, sz_bytes, sz_words):\n",
    "        self.url = doc_url       # document url\n",
    "        self.id = doc_id         # unique document id (str)\n",
    "        self.sz_bytes = sz_bytes # document size in bytes before deleting html markup\n",
    "        self.sz_words = sz_words # number of words in document before deleting html markup\n",
    "        self.words = []          # list of words in document after deleting html markup\n",
    "        self.links = []          # lisk of links in document"
   ]
  },
  {
   "cell_type": "code",
   "execution_count": 62,
   "metadata": {},
   "outputs": [],
   "source": [
    "import os\n",
    "from tqdm import tqdm\n",
    "from tqdm import tqdm_notebook\n",
    "import pickle\n",
    "\n",
    "class BaseDocumentProcessor:\n",
    "    def process(self, document, title):\n",
    "        pass\n",
    "    def result(self):\n",
    "        pass\n",
    "\n",
    "def process_file(d, f, processor, pbar):\n",
    "    print(\"processing\", os.path.join(d, f))\n",
    "    with open(os.path.join(d, f), \"rb\") as fin, open(os.path.join(d, f.replace(\".out\", \".title\")), \"rb\") as tfin:\n",
    "        dct = pickle.load(tfin)\n",
    "        while True:\n",
    "            pbar.update(1)\n",
    "            try:\n",
    "                document = pickle.load(fin)\n",
    "            except:\n",
    "                break\n",
    "            processor.process(document, dct[document.id])\n",
    "\n",
    "def process_collection(directory, processor):\n",
    "    pbar = tqdm(total = 200000)\n",
    "    for file in os.listdir(directory):\n",
    "        if (file.endswith(\".out\")):\n",
    "            process_file(directory, file, processor, pbar)"
   ]
  },
  {
   "cell_type": "code",
   "execution_count": 7,
   "metadata": {},
   "outputs": [],
   "source": [
    "from pymystem3 import Mystem\n",
    "\n",
    "def stem_queries(queries):\n",
    "    m = Mystem(grammar_info=False, disambiguation=False)\n",
    "    reg = re.compile('[a-zа-яё0-9\\-]')\n",
    "    filterFunc = lambda w : reg.match(w)\n",
    "    result = {}\n",
    "    for (qid, text) in queries.items():\n",
    "        result[qid] = ' '.join(filter(filterFunc, m.lemmatize(text)))\n",
    "    return result"
   ]
  },
  {
   "cell_type": "code",
   "execution_count": 58,
   "metadata": {},
   "outputs": [],
   "source": [
    "from rank_bm25 import BM25Okapi #https://pypi.org/project/rank-bm25/ examples\n",
    "from rank_bm25 import BM25Plus\n",
    "\n",
    "def __feature_bm25(documents, queries, BM):\n",
    "    all_words = [doc.words for doc in documents]\n",
    "    bm25 = BM(all_words)\n",
    "    return [bm25.get_scores(q.split(\" \")) for q in queries]\n",
    "\n",
    "def feature_bm25Plus(documents, queries):\n",
    "    return __feature_bm25(documents, queries, BM25Plus)\n",
    "\n",
    "def feature_bm25(documents, queries):\n",
    "    return __feature_bm25(documents, queries, BM25Okapi)"
   ]
  },
  {
   "cell_type": "code",
   "execution_count": 45,
   "metadata": {},
   "outputs": [],
   "source": [
    "class QWord:\n",
    "    def __init__(self, word, pos, prev = None):\n",
    "        self.prev = prev\n",
    "        self.next = None\n",
    "        self.word = word\n",
    "        self.pos = pos\n",
    "        self.step = 0\n",
    "        if (prev != None):\n",
    "            prev.next = self\n",
    "            self.step = pos - prev.pos\n",
    "\n",
    "def check(d):\n",
    "    for k, v in d.items():\n",
    "        if v == 0:\n",
    "            return False\n",
    "    return True\n",
    "        \n",
    "def feature_window(document, query, title):\n",
    "    queryset = set(query.split(' '))\n",
    "    head = None\n",
    "    tail = None\n",
    "    for i, w in enumerate(document.words):\n",
    "        if w in queryset:\n",
    "            if head == None:\n",
    "                head = QWord(w, i)\n",
    "                tail = head\n",
    "            else:\n",
    "                tail = QWord(w, i, tail)\n",
    "                \n",
    "    collect = dict.fromkeys(queryset, 0)\n",
    "    node1 = head\n",
    "    node2 = head\n",
    "    collect[head.word] = 1\n",
    "    length = 0\n",
    "    minLength = len(document.words)\n",
    "    \n",
    "    while node1.next != None:\n",
    "        node1 = node1.next\n",
    "        collect[node1.word] += 1\n",
    "        length += node1.step\n",
    "        while node2.next != None and check(collect):\n",
    "            minLength = min(minLength, length)\n",
    "            collect[node2.word] -= 1\n",
    "            node2 = node2.next\n",
    "            length -= node2.step\n",
    "    return minLength"
   ]
  },
  {
   "cell_type": "code",
   "execution_count": 54,
   "metadata": {},
   "outputs": [],
   "source": [
    "def feature_query_len(document, query, title):\n",
    "    return len(query)\n",
    "\n",
    "def feature_query_list_len(document, query, title):\n",
    "    return len(query.split(' '))\n",
    "\n",
    "def featrue_doc_len(docuemnt, query, title):\n",
    "    return len(document.words)"
   ]
  },
  {
   "cell_type": "code",
   "execution_count": 63,
   "metadata": {},
   "outputs": [],
   "source": [
    "class FeatureProcessor(BaseDocumentProcessor):\n",
    "    def __init__(self, features):\n",
    "        self.features = features\n",
    "    \n",
    "    def process(self, document, title):\n",
    "        [for f in self.feautures]\n",
    "        return\n",
    "        \n",
    "    def result(self):\n",
    "        pass"
   ]
  }
 ],
 "metadata": {
  "kernelspec": {
   "display_name": "Python 3",
   "language": "python",
   "name": "python3"
  },
  "language_info": {
   "codemirror_mode": {
    "name": "ipython",
    "version": 3
   },
   "file_extension": ".py",
   "mimetype": "text/x-python",
   "name": "python",
   "nbconvert_exporter": "python",
   "pygments_lexer": "ipython3",
   "version": "3.6.8"
  }
 },
 "nbformat": 4,
 "nbformat_minor": 2
}
